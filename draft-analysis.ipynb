{
 "cells": [
  {
   "cell_type": "markdown",
   "metadata": {},
   "source": [
    "### draft notebook"
   ]
  },
  {
   "cell_type": "code",
   "execution_count": 66,
   "metadata": {},
   "outputs": [],
   "source": [
    "import numpy as np\n",
    "import matplotlib.pyplot as plt\n",
    "import scipy\n",
    "import pandas as pd\n",
    "import seaborn as sns\n",
    "import plotly.graph_objects as go\n",
    "import plotly.subplots as sp"
   ]
  },
  {
   "cell_type": "markdown",
   "metadata": {},
   "source": [
    "### Univariate descriptive statistical analysis"
   ]
  },
  {
   "cell_type": "code",
   "execution_count": 79,
   "metadata": {},
   "outputs": [],
   "source": [
    "# Parameters for the normal distribution\n",
    "mean_height = 170  # Mean height in centimeters\n",
    "std_dev = 8        # Standard deviation in centimeters\n",
    "sample_size = 1000  # Number of samples\n",
    "\n",
    "# Generating random samples from a normal distribution\n",
    "height_samples = np.random.normal(mean_height, std_dev, sample_size)"
   ]
  },
  {
   "cell_type": "markdown",
   "metadata": {},
   "source": [
    "-----"
   ]
  },
  {
   "cell_type": "code",
   "execution_count": 80,
   "metadata": {},
   "outputs": [],
   "source": [
    "result = scipy.stats.describe(height_samples, ddof=1, bias=False)"
   ]
  },
  {
   "cell_type": "code",
   "execution_count": 81,
   "metadata": {},
   "outputs": [],
   "source": [
    "df_summary_stats = pd.DataFrame({'count': result.nobs,\n",
    "                                 'mean': result.mean,\n",
    "                                 'std': np.sqrt(result.variance),\n",
    "                                 'var': result.variance,\n",
    "                                 'min': result.minmax[0],\n",
    "                                 'max': result.minmax[1],\n",
    "                                 'ske': result.skewness,\n",
    "                                 'kurt': result.kurtosis,\n",
    "                                 '25%': [np.percentile(height_samples, 25)],\n",
    "                                 '50%': np.median(height_samples),\n",
    "                                 '75%': [np.percentile(height_samples, 75)]})"
   ]
  },
  {
   "cell_type": "code",
   "execution_count": 82,
   "metadata": {},
   "outputs": [
    {
     "data": {
      "text/html": [
       "<div>\n",
       "<style scoped>\n",
       "    .dataframe tbody tr th:only-of-type {\n",
       "        vertical-align: middle;\n",
       "    }\n",
       "\n",
       "    .dataframe tbody tr th {\n",
       "        vertical-align: top;\n",
       "    }\n",
       "\n",
       "    .dataframe thead th {\n",
       "        text-align: right;\n",
       "    }\n",
       "</style>\n",
       "<table border=\"1\" class=\"dataframe\">\n",
       "  <thead>\n",
       "    <tr style=\"text-align: right;\">\n",
       "      <th></th>\n",
       "      <th>count</th>\n",
       "      <th>mean</th>\n",
       "      <th>std</th>\n",
       "      <th>var</th>\n",
       "      <th>min</th>\n",
       "      <th>max</th>\n",
       "      <th>ske</th>\n",
       "      <th>kurt</th>\n",
       "      <th>25%</th>\n",
       "      <th>50%</th>\n",
       "      <th>75%</th>\n",
       "    </tr>\n",
       "  </thead>\n",
       "  <tbody>\n",
       "    <tr>\n",
       "      <th>0</th>\n",
       "      <td>1000</td>\n",
       "      <td>170.519315</td>\n",
       "      <td>8.069707</td>\n",
       "      <td>65.120178</td>\n",
       "      <td>142.788999</td>\n",
       "      <td>201.303303</td>\n",
       "      <td>-0.000519</td>\n",
       "      <td>0.102115</td>\n",
       "      <td>165.310853</td>\n",
       "      <td>170.441795</td>\n",
       "      <td>176.268947</td>\n",
       "    </tr>\n",
       "  </tbody>\n",
       "</table>\n",
       "</div>"
      ],
      "text/plain": [
       "   count        mean       std        var         min         max       ske  \\\n",
       "0   1000  170.519315  8.069707  65.120178  142.788999  201.303303 -0.000519   \n",
       "\n",
       "       kurt         25%         50%         75%  \n",
       "0  0.102115  165.310853  170.441795  176.268947  "
      ]
     },
     "execution_count": 82,
     "metadata": {},
     "output_type": "execute_result"
    }
   ],
   "source": [
    "df_summary_stats"
   ]
  },
  {
   "cell_type": "code",
   "execution_count": 17,
   "metadata": {},
   "outputs": [],
   "source": [
    "# Create a pandas DataFrame from height_samples numpy array\n",
    "df = pd.DataFrame({'Height': height_samples})"
   ]
  },
  {
   "cell_type": "code",
   "execution_count": 19,
   "metadata": {},
   "outputs": [
    {
     "data": {
      "text/html": [
       "<div>\n",
       "<style scoped>\n",
       "    .dataframe tbody tr th:only-of-type {\n",
       "        vertical-align: middle;\n",
       "    }\n",
       "\n",
       "    .dataframe tbody tr th {\n",
       "        vertical-align: top;\n",
       "    }\n",
       "\n",
       "    .dataframe thead th {\n",
       "        text-align: right;\n",
       "    }\n",
       "</style>\n",
       "<table border=\"1\" class=\"dataframe\">\n",
       "  <thead>\n",
       "    <tr style=\"text-align: right;\">\n",
       "      <th></th>\n",
       "      <th>Height</th>\n",
       "    </tr>\n",
       "  </thead>\n",
       "  <tbody>\n",
       "    <tr>\n",
       "      <th>count</th>\n",
       "      <td>100.000000</td>\n",
       "    </tr>\n",
       "    <tr>\n",
       "      <th>mean</th>\n",
       "      <td>170.505358</td>\n",
       "    </tr>\n",
       "    <tr>\n",
       "      <th>std</th>\n",
       "      <td>8.270061</td>\n",
       "    </tr>\n",
       "    <tr>\n",
       "      <th>min</th>\n",
       "      <td>152.058298</td>\n",
       "    </tr>\n",
       "    <tr>\n",
       "      <th>25%</th>\n",
       "      <td>164.969597</td>\n",
       "    </tr>\n",
       "    <tr>\n",
       "      <th>50%</th>\n",
       "      <td>169.795130</td>\n",
       "    </tr>\n",
       "    <tr>\n",
       "      <th>75%</th>\n",
       "      <td>175.717161</td>\n",
       "    </tr>\n",
       "    <tr>\n",
       "      <th>max</th>\n",
       "      <td>191.408501</td>\n",
       "    </tr>\n",
       "  </tbody>\n",
       "</table>\n",
       "</div>"
      ],
      "text/plain": [
       "           Height\n",
       "count  100.000000\n",
       "mean   170.505358\n",
       "std      8.270061\n",
       "min    152.058298\n",
       "25%    164.969597\n",
       "50%    169.795130\n",
       "75%    175.717161\n",
       "max    191.408501"
      ]
     },
     "execution_count": 19,
     "metadata": {},
     "output_type": "execute_result"
    }
   ],
   "source": [
    "df.describe()"
   ]
  },
  {
   "cell_type": "markdown",
   "metadata": {},
   "source": [
    "---"
   ]
  },
  {
   "cell_type": "markdown",
   "metadata": {},
   "source": [
    "### Visualization"
   ]
  },
  {
   "cell_type": "markdown",
   "metadata": {},
   "source": [
    "#### matplotlib"
   ]
  },
  {
   "cell_type": "code",
   "execution_count": 78,
   "metadata": {},
   "outputs": [
    {
     "data": {
      "image/png": "[encoded data removed]",
      "text/plain": [
       "<Figure size 1200x600 with 2 Axes>"
      ]
     },
     "metadata": {},
     "output_type": "display_data"
    }
   ],
   "source": [
    "# Create side-by-side plots\n",
    "fig, (ax1, ax2) = plt.subplots(1, 2, figsize=(12, 6))\n",
    "\n",
    "# Plot histogram\n",
    "ax1.hist(height_samples, bins=20, density=True, alpha=0.6, color='g', edgecolor='black')\n",
    "ax1.set_xlabel('Height (cm)')\n",
    "ax1.set_ylabel('Probability Density')\n",
    "ax1.set_title('Random Sample of Heights from Gaussian-like Distribution')\n",
    "ax1.grid(True)\n",
    "\n",
    "# Plot box plot\n",
    "ax2.boxplot(height_samples, vert=False, widths=0.7, patch_artist=True, boxprops=dict(facecolor='lightblue'))\n",
    "ax2.set_xlabel('Height (cm)')\n",
    "ax2.set_title('Box Plot of Height Distribution')\n",
    "ax2.grid(True)\n",
    "\n",
    "plt.show()"
   ]
  },
  {
   "cell_type": "markdown",
   "metadata": {},
   "source": [
    "#### seaborn"
   ]
  },
  {
   "cell_type": "code",
   "execution_count": 59,
   "metadata": {},
   "outputs": [
    {
     "data": {
      "image/png": "[encoded data removed]",
      "text/plain": [
       "<Figure size 1200x600 with 2 Axes>"
      ]
     },
     "metadata": {},
     "output_type": "display_data"
    }
   ],
   "source": [
    "# Create side-by-side plots using seaborn\n",
    "plt.figure(figsize=(12, 6))\n",
    "\n",
    "# Plot histogram using seaborn\n",
    "plt.subplot(1, 2, 1)\n",
    "sns.histplot(height_samples, bins=20, kde=True, color='g')\n",
    "plt.xlabel('Height (cm)')\n",
    "plt.ylabel('Probability Density')\n",
    "plt.title('Random Sample of Heights from Gaussian-like Distribution')\n",
    "plt.grid(True)\n",
    "\n",
    "# Plot box plot using seaborn\n",
    "plt.subplot(1, 2, 2)\n",
    "sns.boxplot(y=height_samples, color='lightblue')\n",
    "plt.xlabel('Height (cm)')\n",
    "plt.title('Box Plot of Height Distribution')\n",
    "plt.grid(True)\n",
    "\n",
    "plt.tight_layout()\n",
    "plt.show()"
   ]
  },
  {
   "cell_type": "markdown",
   "metadata": {},
   "source": [
    "#### plotly"
   ]
  },
  {
   "cell_type": "code",
   "execution_count": 77,
   "metadata": {},
   "outputs": [
    {
     "data": {
      "application/vnd.plotly.v1+json": {
       "config": {
        "plotlyServerURL": "https://plot.ly"
       },
       "data": [
        {
         "marker": {
          "color": "green",
          "line": {
           "color": "black",
           "width": 1
          }
         },
         "nbinsx": 30,
         "opacity": 0.6,
         "type": "histogram",
         "x": [
          170.59040011634693,
          176.62054263284938,
          179.46358422558063,
          166.6568439293957,
          158.60044100444702,
          167.43568625094264,
          169.5359285731767,
          171.94999122749792,
          164.13835497948085,
          166.00323513386513,
          181.6830552631747,
          163.45359303335496,
          170.37390049494365,
          175.63571733610885,
          170.3349195687632,
          172.89858374319743,
          166.78429919876055,
          159.1602778334588,
          165.28312913532974,
          162.71355665165245,
          184.08206611430595,
          156.36140269136894,
          171.30159639376052,
          170.39615318495385,
          177.3377422275303,
          176.8171688532149,
          173.2411122311676,
          167.31674171017724,
          180.90740361684632,
          169.93684727587458,
          166.4258544160291,
          163.60235080796815,
          162.5659271835961,
          167.4793982966669,
          157.8175551072824,
          176.3154702588944,
          166.8191966739788,
          174.47622267186836,
          179.38258139481772,
          155.0333769053052,
          182.6195879092628,
          175.87567983860282,
          168.21945096663669,
          159.14957287352826,
          167.93711310995974,
          172.79069146678853,
          172.18252610566807,
          183.0223915898215,
          165.67112710166344,
          166.438014938006,
          163.8675370945375,
          165.82737509545822,
          158.92424966226514,
          174.61624979281132,
          152.39697497481575,
          170.02226291250187,
          169.94916669171548,
          160.98007682815756,
          182.68817833631428,
          177.45325430961924,
          177.4884987578009,
          169.81229733449658,
          160.94515456979684,
          164.14889630194858,
          160.74124298106403,
          175.4308682716221,
          169.27566505940413,
          167.98093168931268,
          150.01954487689073,
          172.672407601919,
          173.40731475352806,
          179.67325180766176,
          173.94999405788656,
          163.36576733284016,
          175.1470482524629,
          162.08567207956537,
          166.380133635321,
          160.46013366702866,
          180.04474955929754,
          167.0207980331366,
          159.2009680385609,
          160.08621407547162,
          167.55874668085966,
          173.34880894194103,
          165.645826785078,
          176.89194637921094,
          178.273996346027,
          164.32221727827422,
          178.1636851252921,
          162.4190374040886,
          175.27024662273573,
          168.38107426334247,
          168.77074114173118,
          173.94627204594278,
          179.73128400981537,
          156.104906990923,
          168.48657669074962,
          179.4738707589466,
          176.7904024750451,
          169.9553161757742,
          195.4813307722224,
          183.32760668281176,
          171.60487015541347,
          152.567443858997,
          173.44119239588437,
          162.70497280849557,
          164.2310189717568,
          162.29461305895433,
          175.55873456104257,
          174.41144106634061,
          165.5537558267898,
          160.38231967024623,
          174.68918812112406,
          180.50266829378032,
          166.9667709925316,
          173.61683514353683,
          168.6685310461177,
          168.15787993827527,
          153.61515872105696,
          164.60737931790447,
          174.83600849616116,
          173.7150784664262,
          172.28250119060232,
          181.21448253202252,
          172.87949828467583,
          181.99519224630976,
          164.33786922893105,
          161.30624437707394,
          169.49916174591786,
          161.4514049630407,
          173.9967983144856,
          175.91768807567024,
          173.75974645517198,
          169.76262257013002,
          180.23194787998415,
          171.09797976462903,
          160.21369328434486,
          184.6104859002032,
          176.47839052421736,
          153.0986147693015,
          180.4664271691183,
          161.7081388988809,
          156.67349736255497,
          165.87046571131137,
          180.6705713628004,
          168.19546064978638,
          181.76236183204935,
          173.00878678689782,
          177.42523125404034,
          160.39115926757603,
          171.6831262294708,
          174.6913617142666,
          163.49569913147278,
          167.97805554733202,
          176.21973377010983,
          180.5988295823377,
          176.93478187843405,
          175.90987660275016,
          168.37775996078494,
          181.14976971643216,
          166.51495748970638,
          164.37954094517633,
          176.16623035957747,
          157.63838604433974,
          171.10727619020992,
          178.04258321728986,
          165.58118530323745,
          176.77973264380873,
          171.9331396476504,
          188.05766319157675,
          171.16028699213572,
          186.39500704412623,
          168.08889740879434,
          168.03237070830315,
          157.2353435855388,
          174.58014840270283,
          178.20624155843478,
          169.2367807646501,
          170.82301460831832,
          161.5077770922789,
          167.41341717458818,
          172.8216595910728,
          180.63208120201932,
          175.33859500280494,
          165.23468215253598,
          164.58477262399055,
          163.50165508824148,
          156.0956855058017,
          183.39539062032037,
          161.97096605551224,
          170.36897042320743,
          166.31669599568843,
          171.85988420832666,
          157.99110703761374,
          169.12065214651778,
          163.69657993654852,
          173.0161443745956,
          174.10017767449264,
          178.11344054772348,
          170.55595131820664,
          162.79753200916005,
          164.98984309110298,
          158.15929211022404,
          175.72995795633085,
          162.0215852490985,
          179.9784165363042,
          171.14348559295044,
          178.64941089995108,
          165.64494852470023,
          173.5685703404539,
          165.58319469850255,
          170.0561088834671,
          167.3151824048661,
          167.33690028328908,
          168.40927065660924,
          161.2623387075223,
          152.48383682872614,
          174.77356185015003,
          161.91888758278085,
          172.4023217831305,
          162.43040283245378,
          158.41545796585999,
          171.9932557392612,
          173.50614345997383,
          162.25374539626645,
          176.80269710059284,
          173.31694026063664,
          162.04634323577497,
          167.53081368522763,
          170.46655637380863,
          163.218172835272,
          165.57436996646524,
          161.34092617804737,
          173.5905637838553,
          169.92905923482815,
          178.5823302653097,
          157.14173605505144,
          177.58651616948757,
          167.885883005994,
          161.14262545212966,
          169.6332650162792,
          165.59447965363398,
          168.02863190719557,
          174.13733209740528,
          174.12304002514506,
          176.5733434002618,
          172.0164610130636,
          152.6628591027605,
          174.80047192826427,
          181.959922927832,
          177.3626834192436,
          171.92433606634503,
          173.44939873949573,
          170.59519743601524,
          171.33606620469757,
          179.5909869419945,
          164.56155108760208,
          152.78416684919844,
          173.1372765896506,
          172.65052815034107,
          170.4423402578676,
          176.59561674305812,
          177.33943322610648,
          162.2599963625518,
          170.0089297720838,
          174.65226943207696,
          181.22038479494387,
          183.35295800412683,
          171.99593565772082,
          159.46894674863822,
          177.23345658191144,
          151.7912904854244,
          177.5927012532927,
          165.65904006349592,
          175.27894770742313,
          160.63903339267333,
          179.87121989288818,
          165.49894223789283,
          171.7894273110473,
          174.6899977259399,
          171.69046898053793,
          166.5147397699867,
          172.79711568183603,
          165.5133623955112,
          170.5450442688217,
          159.39859197682335,
          171.84954465206445,
          177.64429980442765,
          158.75170244442347,
          182.43100080539804,
          172.74720393424712,
          161.27013073910737,
          176.25880920247457,
          163.45765047824344,
          181.6447951844531,
          174.11247595012674,
          157.21705450571588,
          169.71890401570332,
          160.71294051196693,
          179.93492849274327,
          147.794612801534,
          169.52200350032174,
          172.57317651535814,
          166.69089885370514,
          164.15938228121018,
          172.70448172093222,
          166.80740898713955,
          187.8752248456215,
          161.48168776092186,
          154.09654369617593,
          171.25579611960265,
          176.56218275362258,
          168.88899899917178,
          165.92182156905326,
          173.38410005796092,
          172.5263230142524,
          175.83011773185993,
          184.00150711088622,
          163.30496563025238,
          171.32397932367957,
          182.8959237019325,
          184.56555873276,
          164.3756464422054,
          163.61799335372967,
          170.57195825064213,
          175.08196635556808,
          172.2789455521859,
          173.89963800991035,
          187.6027671053203,
          166.85243070412537,
          170.31991241939235,
          178.13772807618318,
          155.23759298068939,
          165.49510135082147,
          173.1715854934637,
          160.76737471378706,
          166.30263458869467,
          181.07220274932018,
          171.24226638068387,
          166.2533453805441,
          167.8789527472729,
          175.53915380063827,
          159.74158111454867,
          164.84715005017514,
          183.52818767302864,
          172.79482698178995,
          178.06956935303702,
          161.80233422769075,
          173.0287926886013,
          173.0947536637817,
          173.17997161960406,
          165.11745748210555,
          176.14619355000553,
          191.2948913251365,
          162.71794584745956,
          165.07633142889532,
          166.4275952597496,
          172.18314399109332,
          154.14822543540532,
          165.23481837682542,
          164.2615565295473,
          170.5600914038005,
          190.25235155248868,
          169.1969366638601,
          172.42989123441248,
          170.32098685283694,
          159.90975020058008,
          168.35129692660598,
          169.09043287887644,
          160.47116853334882,
          184.61736291797146,
          174.85336282526367,
          174.98772227188923,
          159.72031646867367,
          173.9107417171234,
          165.3169034233432,
          167.6925087286946,
          178.76103308125073,
          173.52634145312084,
          175.3774648709309,
          163.7315027935838,
          170.88732257309164,
          152.82771241768958,
          169.84992816089596,
          173.43192649948142,
          187.1028513305246,
          169.95588171750308,
          173.69604609578812,
          171.73877935017418,
          163.4516062449156,
          165.1835150297589,
          171.85180678407554,
          178.61987172586453,
          163.62325695416925,
          171.49257703205578,
          162.73016799908447,
          171.8811081901276,
          168.16890016429255,
          158.44175229381588,
          164.42302880755042,
          165.13311175330196,
          163.61137720317043,
          177.80564216220546,
          182.12701448376558,
          188.35646742831648,
          179.37527078096284,
          191.61845880251653,
          171.42777431443903,
          178.2409909831635,
          179.73640772029677,
          164.67959590399752,
          172.53206879886758,
          150.32473100132188,
          170.73926116745764,
          175.81461880407977,
          176.13376751743874,
          168.84527508631479,
          156.53005427842697,
          176.61255716425924,
          178.5444382519837,
          165.2640494962889,
          182.9907367465789,
          167.5282947620634,
          173.93555957224314,
          172.42681311969693,
          179.59836150968104,
          173.64458937387994,
          176.01876651921597,
          167.870723652101,
          153.9212271700792,
          165.89468898390774,
          155.77310988061708,
          174.91393315100993,
          170.25001293751362,
          180.12715254365034,
          165.77815189280005,
          182.09643221252887,
          177.20816418862944,
          172.37057314055758,
          160.95392137736147,
          173.05839748887485,
          164.28261569885188,
          165.84813926747105,
          158.98030106351308,
          169.074481222635,
          166.89235475156656,
          179.19943658565336,
          181.17831287163494,
          162.90811792237108,
          166.81066122096044,
          167.83293899731336,
          156.57667270861003,
          157.4941335728226,
          169.02079477677844,
          166.33378721251768,
          158.98368151386464,
          147.4169561192843,
          168.95976435620838,
          174.13166372262882,
          177.34386272691017,
          159.03228464418046,
          163.51765716897486,
          176.39938638459208,
          186.42043779625206,
          177.34736382220402,
          172.61339069263667,
          169.19046444537202,
          170.25608682233883,
          159.34170787314235,
          157.24843897854342,
          188.5558397011948,
          172.47167681566535,
          178.42872166316977,
          178.07934590457032,
          178.9138297066916,
          167.23332868208377,
          173.21968079282053,
          170.1944785491984,
          170.18775318106324,
          159.22137381701617,
          168.31312043704327,
          177.5271178249563,
          168.40995571871358,
          175.2585764938775,
          155.31933423918696,
          176.8044970857909,
          162.46250111418954,
          169.48914074441748,
          181.68538742711388,
          167.3631662170621,
          163.79106585578145,
          170.74810289226903,
          172.64783120743735,
          158.1907192985741,
          169.03948573468975,
          157.66632598684197,
          166.26407467493553,
          182.5430769803229,
          172.3728980242708,
          184.5537349447353,
          158.4826027666147,
          165.7315156610454,
          154.4108159087128,
          160.1650202428079,
          160.62177700157167,
          181.35487893863882,
          168.02876805915236,
          168.989711846665,
          157.9045998210922,
          166.90057805802502,
          183.53648423475164,
          169.47538244874454,
          165.0981440482569,
          170.05427315747198,
          170.96883284248804,
          185.44569432727664,
          173.9837642876693,
          165.44675821654087,
          167.4575344651208,
          161.65787134412457,
          156.25704126928076,
          173.2996228925591,
          172.47452828743343,
          160.84798265435487,
          173.29073338949254,
          171.43990000589622,
          185.15310296903294,
          168.52999743792495,
          165.2883263417413,
          156.08806460996448,
          166.69798915742828,
          173.80034268312028,
          164.17963595497375,
          157.94164790147542,
          161.24617385736212,
          168.94199638129126,
          175.84941529603324,
          164.61045045650954,
          173.00049669291985,
          178.79815907948603,
          166.6734460330881,
          182.4796413702546,
          168.8249937033237,
          172.03162482306325,
          172.1085339742862,
          158.7655748240605,
          170.31671651949003,
          172.33538426740705,
          174.46620901869787,
          180.1674610464372,
          177.36146750465707,
          173.87095764625354,
          171.1923760435931,
          157.4043176169181,
          172.06898950359604,
          178.2347975204589,
          167.83518839506863,
          175.71293631980433,
          172.18825726679904,
          155.30286506349225,
          165.68129607030303,
          174.52222121945397,
          172.03317800374055,
          171.9318772783847,
          164.3510643549033,
          167.38232980591243,
          176.62447282398406,
          168.6308932112738,
          153.43016727061664,
          155.56921543033084,
          183.35855249719333,
          167.2474970510826,
          168.19613979668463,
          174.13840220739877,
          169.17058832773515,
          177.9108007665302,
          162.76634674986738,
          172.56597663937552,
          162.67251531121323,
          169.1366998288854,
          156.83245506581798,
          172.38850270638756,
          170.78922154990943,
          170.30700809048946,
          182.45296032276906,
          171.0500913929507,
          175.20936925971324,
          154.8188316452267,
          181.88741331974362,
          162.25848896013127,
          173.92498307759507,
          160.3126263817894,
          174.91100163121192,
          167.63248454027047,
          170.76451585491478,
          169.62320691917947,
          178.6768718962947,
          178.01547446896566,
          184.28525942853182,
          157.90048602322517,
          170.477124102547,
          155.93405559610235,
          172.31451122122436,
          174.54859154954633,
          170.30317399488342,
          173.49190786041595,
          176.86707879622173,
          166.9098844533347,
          170.21781631677098,
          164.2774767587079,
          162.2714430183572,
          183.9084503744849,
          164.45106444264664,
          180.6536679572127,
          158.3590292042562,
          167.8188623571737,
          170.1971328586734,
          169.88815867599465,
          159.5699135287467,
          179.87695949982293,
          176.58420739042208,
          176.1034352665779,
          170.8024510614322,
          164.93942199417398,
          170.85493275981585,
          168.10422667220521,
          159.5447016676939,
          156.7523148536464,
          168.4594595272661,
          176.36903332788245,
          169.70313468820203,
          174.6699421386152,
          164.57984483393716,
          161.2220352152146,
          168.34684511200294,
          167.71865169952625,
          161.27412926954506,
          170.02082022615912,
          170.71274792847302,
          168.15537274415362,
          161.99777990654184,
          173.02238111814285,
          177.56855608502318,
          172.5437138801442,
          179.5483477098357,
          176.36266858173238,
          171.49190928918097,
          169.75146013974975,
          165.12135476330582,
          161.92454482579296,
          179.20182168356322,
          168.6693243513724,
          180.38422025255437,
          171.59336539588983,
          164.90821950489033,
          169.28359717341075,
          161.70939750384719,
          174.26530958240258,
          181.11854130259437,
          164.0213192277044,
          162.54821885610355,
          167.29300863001717,
          159.58471784408607,
          164.06719835145148,
          178.00027400964368,
          165.18744343647495,
          168.79928803246736,
          162.09053571639765,
          175.3231636898421,
          165.09315542393722,
          175.59960507949415,
          174.18753899427196,
          161.27170603138782,
          175.94117213366292,
          182.39559713482407,
          177.91077963194178,
          177.11538736117384,
          161.96845671202226,
          171.8276482286937,
          162.24561087981718,
          157.11192787710385,
          173.63578742521207,
          184.6419382817782,
          173.20937618781238,
          174.2111803543485,
          157.67671319894714,
          165.14546166771842,
          174.80315328268762,
          166.66469973205858,
          181.1588993568353,
          163.11305799949733,
          162.0967845309966,
          176.15536817140713,
          167.00284390439836,
          176.8944344706865,
          172.95654352632585,
          165.43061669298973,
          173.40722597935454,
          173.47775795057873,
          181.5469117661376,
          170.30795490470098,
          170.20290479974312,
          166.99431186884146,
          180.7361580808793,
          176.74740295932978,
          167.02629906482636,
          169.85679322366946,
          182.6799179597154,
          180.06245886819096,
          166.30684714100275,
          172.70191796378694,
          170.84974723599004,
          180.530937673839,
          164.4536743556992,
          166.16870139430324,
          171.83625055162548,
          167.05358883821674,
          174.7351341710519,
          153.93889498413614,
          168.91742931895539,
          175.4897350750916,
          175.5882188948883,
          166.12281888683248,
          176.18155640921026,
          166.98773778620532,
          175.7426356723286,
          167.35584508872597,
          195.18937759048,
          172.62054169654652,
          176.1714057620234,
          165.2570342521087,
          165.93737340795525,
          176.31412030868768,
          181.17519236326294,
          164.64233250752628,
          170.0772643451528,
          174.7016581383467,
          164.54215517650053,
          176.72722680732048,
          145.7218965986519,
          159.63549743897707,
          174.3933010912506,
          172.98664244349342,
          171.62667281810545,
          170.04520555839434,
          176.24781379874952,
          168.18807444185842,
          163.42264639995608,
          170.7032869416583,
          172.71743253425404,
          167.89927365398447,
          174.67114390314478,
          179.96841628463778,
          165.05550553956004,
          171.19540064956965,
          164.41345404905408,
          173.46346929070089,
          161.32513436661563,
          158.43890245765473,
          184.2651358171703,
          172.58059034298918,
          166.76070838718272,
          161.59194276213472,
          185.03999768564637,
          185.01622253763355,
          177.25527950202826,
          182.54986306557663,
          167.80610468459918,
          169.80709555073133,
          174.73021493074742,
          158.64369827004586,
          167.10924186306218,
          170.8681470814786,
          174.10681992188472,
          176.23905341261397,
          167.26985768646745,
          169.2929096358211,
          166.50324681543768,
          162.9876780710645,
          168.49308033072037,
          161.73697524492712,
          158.12383797074312,
          174.2665998078745,
          167.2753499376981,
          190.26598209267775,
          174.3090571395821,
          160.28045870732223,
          167.10603475302833,
          172.1589265344845,
          172.06306139301685,
          171.3920476408841,
          168.0842615026176,
          163.82092159102243,
          171.67205425738126,
          182.3210283079565,
          162.28457070084568,
          170.7668840951802,
          168.54499819176104,
          172.04448968947102,
          160.86034642529754,
          155.76140983963674,
          160.8790018864561,
          161.96612632257074,
          176.4205466937037,
          180.67481396111435,
          180.09546980153445,
          160.68497711868253,
          171.4815997514097,
          158.71581686796722,
          157.8618252456132,
          145.21109730174405,
          177.41179269243398,
          153.5370431685218,
          156.04424070867597,
          169.70805735023453,
          165.45057808222361,
          173.22729326101367,
          178.23322354970378,
          166.62905403271915,
          160.89109997642925,
          192.34644469984195,
          179.3067514530471,
          176.19651608728427,
          178.5599987438117,
          155.99893362684168,
          165.64857124975705,
          176.52127550131001,
          168.4462270386238,
          167.51973415602728,
          160.53395640777563,
          151.25303278727574,
          179.15740058524554,
          182.5249690645959,
          168.94585195115744,
          181.37028522607102,
          164.97540896762973,
          167.60517140148596,
          168.84085013198256,
          163.8569032236025,
          175.9023730863597,
          172.60167232011935,
          169.67625304316914,
          174.36852690406909,
          174.5068995811944,
          165.14911627891044,
          165.04763894543962,
          166.17326065760486,
          179.6807088133221,
          156.52952510684813,
          176.57549928540175,
          150.3560353313458,
          168.61400996951915,
          168.6485123333355,
          162.32051608303777,
          172.57065342692826,
          171.4045911298501,
          162.2318883434528,
          168.72808834773076,
          171.57200007633034,
          160.12051282257536,
          151.74679751196732,
          175.03131648999397,
          171.82953535214492,
          153.30011404546246,
          177.57429923658728,
          177.26372472803854,
          167.66253858050604,
          158.4414626913652,
          160.97783186991848,
          178.59354844506683,
          166.6049519713046,
          162.91664446363143,
          177.3374605182114,
          173.80339808544693,
          168.83761742186576,
          164.60485892610657,
          173.49699564717181,
          170.2990711977865,
          172.34818108256704,
          181.68323847450569,
          155.48786821002471,
          179.80623175206247,
          183.70335155227633,
          163.1892135859439,
          166.60338832343473,
          174.68669881910895,
          167.03030186534832,
          154.31325230775096,
          170.7665605161585,
          165.967604956506,
          171.9354541367084,
          174.05171708797258,
          166.64881006446927,
          173.4815074463086,
          165.26131392687188,
          178.10069022288752,
          177.27183780623398,
          171.78029791740423,
          180.0970189647861,
          179.64495438058367,
          169.24884215972153,
          177.64177037487795,
          145.67128682838893,
          183.0649393017062,
          166.57097673567935,
          164.1431659410427,
          176.52998680006914,
          170.8460277263912,
          164.10208958587492,
          160.265682180992,
          180.26950318977592,
          167.70255344644136,
          159.35512114087265,
          168.26851473401837,
          169.93006364845454,
          174.0213462978735,
          183.43723870203405,
          173.7148420506094,
          176.52914982648872,
          167.99945915832495,
          170.77795983191413,
          187.96588082637015,
          172.28601484054298,
          158.4637549274711,
          183.4279192275414,
          170.09359924607978,
          173.5893453913978,
          163.3878663580395,
          171.7793863890208,
          166.7417367031934,
          171.20275174515285,
          175.03220956753592,
          175.00340315088692,
          177.15234875398482,
          157.70405486345754,
          157.80089623266983,
          147.80621878228905,
          166.15080956042178,
          171.138295306235,
          176.799753958429,
          190.56270632030785,
          183.38278301298323,
          179.2182542127024,
          167.5145085301504,
          180.9477231852855,
          160.6121530891304,
          165.02453236015288,
          174.02582920198807,
          139.17077363515068,
          158.02394128448765,
          173.16133540426873,
          167.1774829299883,
          161.77720962279648,
          174.92526093807953,
          178.6022394092684,
          180.81687182067034,
          168.7829640447241,
          174.82031637800466,
          172.47066622629958,
          181.450246175505,
          172.90707532597523,
          166.03448461250372,
          162.516319686275,
          176.4073018809804,
          178.35132357215156,
          178.0545295377757,
          171.32026086083172,
          175.09141542834874,
          171.3236727052581,
          162.37078101332793,
          166.353601466981,
          176.33257815132762,
          176.688524692852,
          166.7480034728046,
          171.10152796547666,
          171.40642417753944,
          181.83304423354767,
          173.2527873593214,
          166.95757343728147,
          169.73222361454876,
          168.79190741404548,
          163.02949644044426,
          154.64066802386054,
          194.73761725029692,
          169.14728149727887,
          183.50520375956077,
          167.9427992858956,
          176.2112614647095,
          156.70673816648372,
          174.38268120754412,
          179.8744369472825,
          172.8278827706515,
          177.51464440212808,
          172.74845118257545,
          180.24511385160855,
          165.89996980586162,
          191.55165538683642,
          170.4567180993405,
          166.99654162723397,
          173.7227345955286
         ],
         "xaxis": "x",
         "yaxis": "y"
        },
        {
         "jitter": 0,
         "pointpos": 0,
         "type": "box",
         "xaxis": "x2",
         "y": [
          170.59040011634693,
          176.62054263284938,
          179.46358422558063,
          166.6568439293957,
          158.60044100444702,
          167.43568625094264,
          169.5359285731767,
          171.94999122749792,
          164.13835497948085,
          166.00323513386513,
          181.6830552631747,
          163.45359303335496,
          170.37390049494365,
          175.63571733610885,
          170.3349195687632,
          172.89858374319743,
          166.78429919876055,
          159.1602778334588,
          165.28312913532974,
          162.71355665165245,
          184.08206611430595,
          156.36140269136894,
          171.30159639376052,
          170.39615318495385,
          177.3377422275303,
          176.8171688532149,
          173.2411122311676,
          167.31674171017724,
          180.90740361684632,
          169.93684727587458,
          166.4258544160291,
          163.60235080796815,
          162.5659271835961,
          167.4793982966669,
          157.8175551072824,
          176.3154702588944,
          166.8191966739788,
          174.47622267186836,
          179.38258139481772,
          155.0333769053052,
          182.6195879092628,
          175.87567983860282,
          168.21945096663669,
          159.14957287352826,
          167.93711310995974,
          172.79069146678853,
          172.18252610566807,
          183.0223915898215,
          165.67112710166344,
          166.438014938006,
          163.8675370945375,
          165.82737509545822,
          158.92424966226514,
          174.61624979281132,
          152.39697497481575,
          170.02226291250187,
          169.94916669171548,
          160.98007682815756,
          182.68817833631428,
          177.45325430961924,
          177.4884987578009,
          169.81229733449658,
          160.94515456979684,
          164.14889630194858,
          160.74124298106403,
          175.4308682716221,
          169.27566505940413,
          167.98093168931268,
          150.01954487689073,
          172.672407601919,
          173.40731475352806,
          179.67325180766176,
          173.94999405788656,
          163.36576733284016,
          175.1470482524629,
          162.08567207956537,
          166.380133635321,
          160.46013366702866,
          180.04474955929754,
          167.0207980331366,
          159.2009680385609,
          160.08621407547162,
          167.55874668085966,
          173.34880894194103,
          165.645826785078,
          176.89194637921094,
          178.273996346027,
          164.32221727827422,
          178.1636851252921,
          162.4190374040886,
          175.27024662273573,
          168.38107426334247,
          168.77074114173118,
          173.94627204594278,
          179.73128400981537,
          156.104906990923,
          168.48657669074962,
          179.4738707589466,
          176.7904024750451,
          169.9553161757742,
          195.4813307722224,
          183.32760668281176,
          171.60487015541347,
          152.567443858997,
          173.44119239588437,
          162.70497280849557,
          164.2310189717568,
          162.29461305895433,
          175.55873456104257,
          174.41144106634061,
          165.5537558267898,
          160.38231967024623,
          174.68918812112406,
          180.50266829378032,
          166.9667709925316,
          173.61683514353683,
          168.6685310461177,
          168.15787993827527,
          153.61515872105696,
          164.60737931790447,
          174.83600849616116,
          173.7150784664262,
          172.28250119060232,
          181.21448253202252,
          172.87949828467583,
          181.99519224630976,
          164.33786922893105,
          161.30624437707394,
          169.49916174591786,
          161.4514049630407,
          173.9967983144856,
          175.91768807567024,
          173.75974645517198,
          169.76262257013002,
          180.23194787998415,
          171.09797976462903,
          160.21369328434486,
          184.6104859002032,
          176.47839052421736,
          153.0986147693015,
          180.4664271691183,
          161.7081388988809,
          156.67349736255497,
          165.87046571131137,
          180.6705713628004,
          168.19546064978638,
          181.76236183204935,
          173.00878678689782,
          177.42523125404034,
          160.39115926757603,
          171.6831262294708,
          174.6913617142666,
          163.49569913147278,
          167.97805554733202,
          176.21973377010983,
          180.5988295823377,
          176.93478187843405,
          175.90987660275016,
          168.37775996078494,
          181.14976971643216,
          166.51495748970638,
          164.37954094517633,
          176.16623035957747,
          157.63838604433974,
          171.10727619020992,
          178.04258321728986,
          165.58118530323745,
          176.77973264380873,
          171.9331396476504,
          188.05766319157675,
          171.16028699213572,
          186.39500704412623,
          168.08889740879434,
          168.03237070830315,
          157.2353435855388,
          174.58014840270283,
          178.20624155843478,
          169.2367807646501,
          170.82301460831832,
          161.5077770922789,
          167.41341717458818,
          172.8216595910728,
          180.63208120201932,
          175.33859500280494,
          165.23468215253598,
          164.58477262399055,
          163.50165508824148,
          156.0956855058017,
          183.39539062032037,
          161.97096605551224,
          170.36897042320743,
          166.31669599568843,
          171.85988420832666,
          157.99110703761374,
          169.12065214651778,
          163.69657993654852,
          173.0161443745956,
          174.10017767449264,
          178.11344054772348,
          170.55595131820664,
          162.79753200916005,
          164.98984309110298,
          158.15929211022404,
          175.72995795633085,
          162.0215852490985,
          179.9784165363042,
          171.14348559295044,
          178.64941089995108,
          165.64494852470023,
          173.5685703404539,
          165.58319469850255,
          170.0561088834671,
          167.3151824048661,
          167.33690028328908,
          168.40927065660924,
          161.2623387075223,
          152.48383682872614,
          174.77356185015003,
          161.91888758278085,
          172.4023217831305,
          162.43040283245378,
          158.41545796585999,
          171.9932557392612,
          173.50614345997383,
          162.25374539626645,
          176.80269710059284,
          173.31694026063664,
          162.04634323577497,
          167.53081368522763,
          170.46655637380863,
          163.218172835272,
          165.57436996646524,
          161.34092617804737,
          173.5905637838553,
          169.92905923482815,
          178.5823302653097,
          157.14173605505144,
          177.58651616948757,
          167.885883005994,
          161.14262545212966,
          169.6332650162792,
          165.59447965363398,
          168.02863190719557,
          174.13733209740528,
          174.12304002514506,
          176.5733434002618,
          172.0164610130636,
          152.6628591027605,
          174.80047192826427,
          181.959922927832,
          177.3626834192436,
          171.92433606634503,
          173.44939873949573,
          170.59519743601524,
          171.33606620469757,
          179.5909869419945,
          164.56155108760208,
          152.78416684919844,
          173.1372765896506,
          172.65052815034107,
          170.4423402578676,
          176.59561674305812,
          177.33943322610648,
          162.2599963625518,
          170.0089297720838,
          174.65226943207696,
          181.22038479494387,
          183.35295800412683,
          171.99593565772082,
          159.46894674863822,
          177.23345658191144,
          151.7912904854244,
          177.5927012532927,
          165.65904006349592,
          175.27894770742313,
          160.63903339267333,
          179.87121989288818,
          165.49894223789283,
          171.7894273110473,
          174.6899977259399,
          171.69046898053793,
          166.5147397699867,
          172.79711568183603,
          165.5133623955112,
          170.5450442688217,
          159.39859197682335,
          171.84954465206445,
          177.64429980442765,
          158.75170244442347,
          182.43100080539804,
          172.74720393424712,
          161.27013073910737,
          176.25880920247457,
          163.45765047824344,
          181.6447951844531,
          174.11247595012674,
          157.21705450571588,
          169.71890401570332,
          160.71294051196693,
          179.93492849274327,
          147.794612801534,
          169.52200350032174,
          172.57317651535814,
          166.69089885370514,
          164.15938228121018,
          172.70448172093222,
          166.80740898713955,
          187.8752248456215,
          161.48168776092186,
          154.09654369617593,
          171.25579611960265,
          176.56218275362258,
          168.88899899917178,
          165.92182156905326,
          173.38410005796092,
          172.5263230142524,
          175.83011773185993,
          184.00150711088622,
          163.30496563025238,
          171.32397932367957,
          182.8959237019325,
          184.56555873276,
          164.3756464422054,
          163.61799335372967,
          170.57195825064213,
          175.08196635556808,
          172.2789455521859,
          173.89963800991035,
          187.6027671053203,
          166.85243070412537,
          170.31991241939235,
          178.13772807618318,
          155.23759298068939,
          165.49510135082147,
          173.1715854934637,
          160.76737471378706,
          166.30263458869467,
          181.07220274932018,
          171.24226638068387,
          166.2533453805441,
          167.8789527472729,
          175.53915380063827,
          159.74158111454867,
          164.84715005017514,
          183.52818767302864,
          172.79482698178995,
          178.06956935303702,
          161.80233422769075,
          173.0287926886013,
          173.0947536637817,
          173.17997161960406,
          165.11745748210555,
          176.14619355000553,
          191.2948913251365,
          162.71794584745956,
          165.07633142889532,
          166.4275952597496,
          172.18314399109332,
          154.14822543540532,
          165.23481837682542,
          164.2615565295473,
          170.5600914038005,
          190.25235155248868,
          169.1969366638601,
          172.42989123441248,
          170.32098685283694,
          159.90975020058008,
          168.35129692660598,
          169.09043287887644,
          160.47116853334882,
          184.61736291797146,
          174.85336282526367,
          174.98772227188923,
          159.72031646867367,
          173.9107417171234,
          165.3169034233432,
          167.6925087286946,
          178.76103308125073,
          173.52634145312084,
          175.3774648709309,
          163.7315027935838,
          170.88732257309164,
          152.82771241768958,
          169.84992816089596,
          173.43192649948142,
          187.1028513305246,
          169.95588171750308,
          173.69604609578812,
          171.73877935017418,
          163.4516062449156,
          165.1835150297589,
          171.85180678407554,
          178.61987172586453,
          163.62325695416925,
          171.49257703205578,
          162.73016799908447,
          171.8811081901276,
          168.16890016429255,
          158.44175229381588,
          164.42302880755042,
          165.13311175330196,
          163.61137720317043,
          177.80564216220546,
          182.12701448376558,
          188.35646742831648,
          179.37527078096284,
          191.61845880251653,
          171.42777431443903,
          178.2409909831635,
          179.73640772029677,
          164.67959590399752,
          172.53206879886758,
          150.32473100132188,
          170.73926116745764,
          175.81461880407977,
          176.13376751743874,
          168.84527508631479,
          156.53005427842697,
          176.61255716425924,
          178.5444382519837,
          165.2640494962889,
          182.9907367465789,
          167.5282947620634,
          173.93555957224314,
          172.42681311969693,
          179.59836150968104,
          173.64458937387994,
          176.01876651921597,
          167.870723652101,
          153.9212271700792,
          165.89468898390774,
          155.77310988061708,
          174.91393315100993,
          170.25001293751362,
          180.12715254365034,
          165.77815189280005,
          182.09643221252887,
          177.20816418862944,
          172.37057314055758,
          160.95392137736147,
          173.05839748887485,
          164.28261569885188,
          165.84813926747105,
          158.98030106351308,
          169.074481222635,
          166.89235475156656,
          179.19943658565336,
          181.17831287163494,
          162.90811792237108,
          166.81066122096044,
          167.83293899731336,
          156.57667270861003,
          157.4941335728226,
          169.02079477677844,
          166.33378721251768,
          158.98368151386464,
          147.4169561192843,
          168.95976435620838,
          174.13166372262882,
          177.34386272691017,
          159.03228464418046,
          163.51765716897486,
          176.39938638459208,
          186.42043779625206,
          177.34736382220402,
          172.61339069263667,
          169.19046444537202,
          170.25608682233883,
          159.34170787314235,
          157.24843897854342,
          188.5558397011948,
          172.47167681566535,
          178.42872166316977,
          178.07934590457032,
          178.9138297066916,
          167.23332868208377,
          173.21968079282053,
          170.1944785491984,
          170.18775318106324,
          159.22137381701617,
          168.31312043704327,
          177.5271178249563,
          168.40995571871358,
          175.2585764938775,
          155.31933423918696,
          176.8044970857909,
          162.46250111418954,
          169.48914074441748,
          181.68538742711388,
          167.3631662170621,
          163.79106585578145,
          170.74810289226903,
          172.64783120743735,
          158.1907192985741,
          169.03948573468975,
          157.66632598684197,
          166.26407467493553,
          182.5430769803229,
          172.3728980242708,
          184.5537349447353,
          158.4826027666147,
          165.7315156610454,
          154.4108159087128,
          160.1650202428079,
          160.62177700157167,
          181.35487893863882,
          168.02876805915236,
          168.989711846665,
          157.9045998210922,
          166.90057805802502,
          183.53648423475164,
          169.47538244874454,
          165.0981440482569,
          170.05427315747198,
          170.96883284248804,
          185.44569432727664,
          173.9837642876693,
          165.44675821654087,
          167.4575344651208,
          161.65787134412457,
          156.25704126928076,
          173.2996228925591,
          172.47452828743343,
          160.84798265435487,
          173.29073338949254,
          171.43990000589622,
          185.15310296903294,
          168.52999743792495,
          165.2883263417413,
          156.08806460996448,
          166.69798915742828,
          173.80034268312028,
          164.17963595497375,
          157.94164790147542,
          161.24617385736212,
          168.94199638129126,
          175.84941529603324,
          164.61045045650954,
          173.00049669291985,
          178.79815907948603,
          166.6734460330881,
          182.4796413702546,
          168.8249937033237,
          172.03162482306325,
          172.1085339742862,
          158.7655748240605,
          170.31671651949003,
          172.33538426740705,
          174.46620901869787,
          180.1674610464372,
          177.36146750465707,
          173.87095764625354,
          171.1923760435931,
          157.4043176169181,
          172.06898950359604,
          178.2347975204589,
          167.83518839506863,
          175.71293631980433,
          172.18825726679904,
          155.30286506349225,
          165.68129607030303,
          174.52222121945397,
          172.03317800374055,
          171.9318772783847,
          164.3510643549033,
          167.38232980591243,
          176.62447282398406,
          168.6308932112738,
          153.43016727061664,
          155.56921543033084,
          183.35855249719333,
          167.2474970510826,
          168.19613979668463,
          174.13840220739877,
          169.17058832773515,
          177.9108007665302,
          162.76634674986738,
          172.56597663937552,
          162.67251531121323,
          169.1366998288854,
          156.83245506581798,
          172.38850270638756,
          170.78922154990943,
          170.30700809048946,
          182.45296032276906,
          171.0500913929507,
          175.20936925971324,
          154.8188316452267,
          181.88741331974362,
          162.25848896013127,
          173.92498307759507,
          160.3126263817894,
          174.91100163121192,
          167.63248454027047,
          170.76451585491478,
          169.62320691917947,
          178.6768718962947,
          178.01547446896566,
          184.28525942853182,
          157.90048602322517,
          170.477124102547,
          155.93405559610235,
          172.31451122122436,
          174.54859154954633,
          170.30317399488342,
          173.49190786041595,
          176.86707879622173,
          166.9098844533347,
          170.21781631677098,
          164.2774767587079,
          162.2714430183572,
          183.9084503744849,
          164.45106444264664,
          180.6536679572127,
          158.3590292042562,
          167.8188623571737,
          170.1971328586734,
          169.88815867599465,
          159.5699135287467,
          179.87695949982293,
          176.58420739042208,
          176.1034352665779,
          170.8024510614322,
          164.93942199417398,
          170.85493275981585,
          168.10422667220521,
          159.5447016676939,
          156.7523148536464,
          168.4594595272661,
          176.36903332788245,
          169.70313468820203,
          174.6699421386152,
          164.57984483393716,
          161.2220352152146,
          168.34684511200294,
          167.71865169952625,
          161.27412926954506,
          170.02082022615912,
          170.71274792847302,
          168.15537274415362,
          161.99777990654184,
          173.02238111814285,
          177.56855608502318,
          172.5437138801442,
          179.5483477098357,
          176.36266858173238,
          171.49190928918097,
          169.75146013974975,
          165.12135476330582,
          161.92454482579296,
          179.20182168356322,
          168.6693243513724,
          180.38422025255437,
          171.59336539588983,
          164.90821950489033,
          169.28359717341075,
          161.70939750384719,
          174.26530958240258,
          181.11854130259437,
          164.0213192277044,
          162.54821885610355,
          167.29300863001717,
          159.58471784408607,
          164.06719835145148,
          178.00027400964368,
          165.18744343647495,
          168.79928803246736,
          162.09053571639765,
          175.3231636898421,
          165.09315542393722,
          175.59960507949415,
          174.18753899427196,
          161.27170603138782,
          175.94117213366292,
          182.39559713482407,
          177.91077963194178,
          177.11538736117384,
          161.96845671202226,
          171.8276482286937,
          162.24561087981718,
          157.11192787710385,
          173.63578742521207,
          184.6419382817782,
          173.20937618781238,
          174.2111803543485,
          157.67671319894714,
          165.14546166771842,
          174.80315328268762,
          166.66469973205858,
          181.1588993568353,
          163.11305799949733,
          162.0967845309966,
          176.15536817140713,
          167.00284390439836,
          176.8944344706865,
          172.95654352632585,
          165.43061669298973,
          173.40722597935454,
          173.47775795057873,
          181.5469117661376,
          170.30795490470098,
          170.20290479974312,
          166.99431186884146,
          180.7361580808793,
          176.74740295932978,
          167.02629906482636,
          169.85679322366946,
          182.6799179597154,
          180.06245886819096,
          166.30684714100275,
          172.70191796378694,
          170.84974723599004,
          180.530937673839,
          164.4536743556992,
          166.16870139430324,
          171.83625055162548,
          167.05358883821674,
          174.7351341710519,
          153.93889498413614,
          168.91742931895539,
          175.4897350750916,
          175.5882188948883,
          166.12281888683248,
          176.18155640921026,
          166.98773778620532,
          175.7426356723286,
          167.35584508872597,
          195.18937759048,
          172.62054169654652,
          176.1714057620234,
          165.2570342521087,
          165.93737340795525,
          176.31412030868768,
          181.17519236326294,
          164.64233250752628,
          170.0772643451528,
          174.7016581383467,
          164.54215517650053,
          176.72722680732048,
          145.7218965986519,
          159.63549743897707,
          174.3933010912506,
          172.98664244349342,
          171.62667281810545,
          170.04520555839434,
          176.24781379874952,
          168.18807444185842,
          163.42264639995608,
          170.7032869416583,
          172.71743253425404,
          167.89927365398447,
          174.67114390314478,
          179.96841628463778,
          165.05550553956004,
          171.19540064956965,
          164.41345404905408,
          173.46346929070089,
          161.32513436661563,
          158.43890245765473,
          184.2651358171703,
          172.58059034298918,
          166.76070838718272,
          161.59194276213472,
          185.03999768564637,
          185.01622253763355,
          177.25527950202826,
          182.54986306557663,
          167.80610468459918,
          169.80709555073133,
          174.73021493074742,
          158.64369827004586,
          167.10924186306218,
          170.8681470814786,
          174.10681992188472,
          176.23905341261397,
          167.26985768646745,
          169.2929096358211,
          166.50324681543768,
          162.9876780710645,
          168.49308033072037,
          161.73697524492712,
          158.12383797074312,
          174.2665998078745,
          167.2753499376981,
          190.26598209267775,
          174.3090571395821,
          160.28045870732223,
          167.10603475302833,
          172.1589265344845,
          172.06306139301685,
          171.3920476408841,
          168.0842615026176,
          163.82092159102243,
          171.67205425738126,
          182.3210283079565,
          162.28457070084568,
          170.7668840951802,
          168.54499819176104,
          172.04448968947102,
          160.86034642529754,
          155.76140983963674,
          160.8790018864561,
          161.96612632257074,
          176.4205466937037,
          180.67481396111435,
          180.09546980153445,
          160.68497711868253,
          171.4815997514097,
          158.71581686796722,
          157.8618252456132,
          145.21109730174405,
          177.41179269243398,
          153.5370431685218,
          156.04424070867597,
          169.70805735023453,
          165.45057808222361,
          173.22729326101367,
          178.23322354970378,
          166.62905403271915,
          160.89109997642925,
          192.34644469984195,
          179.3067514530471,
          176.19651608728427,
          178.5599987438117,
          155.99893362684168,
          165.64857124975705,
          176.52127550131001,
          168.4462270386238,
          167.51973415602728,
          160.53395640777563,
          151.25303278727574,
          179.15740058524554,
          182.5249690645959,
          168.94585195115744,
          181.37028522607102,
          164.97540896762973,
          167.60517140148596,
          168.84085013198256,
          163.8569032236025,
          175.9023730863597,
          172.60167232011935,
          169.67625304316914,
          174.36852690406909,
          174.5068995811944,
          165.14911627891044,
          165.04763894543962,
          166.17326065760486,
          179.6807088133221,
          156.52952510684813,
          176.57549928540175,
          150.3560353313458,
          168.61400996951915,
          168.6485123333355,
          162.32051608303777,
          172.57065342692826,
          171.4045911298501,
          162.2318883434528,
          168.72808834773076,
          171.57200007633034,
          160.12051282257536,
          151.74679751196732,
          175.03131648999397,
          171.82953535214492,
          153.30011404546246,
          177.57429923658728,
          177.26372472803854,
          167.66253858050604,
          158.4414626913652,
          160.97783186991848,
          178.59354844506683,
          166.6049519713046,
          162.91664446363143,
          177.3374605182114,
          173.80339808544693,
          168.83761742186576,
          164.60485892610657,
          173.49699564717181,
          170.2990711977865,
          172.34818108256704,
          181.68323847450569,
          155.48786821002471,
          179.80623175206247,
          183.70335155227633,
          163.1892135859439,
          166.60338832343473,
          174.68669881910895,
          167.03030186534832,
          154.31325230775096,
          170.7665605161585,
          165.967604956506,
          171.9354541367084,
          174.05171708797258,
          166.64881006446927,
          173.4815074463086,
          165.26131392687188,
          178.10069022288752,
          177.27183780623398,
          171.78029791740423,
          180.0970189647861,
          179.64495438058367,
          169.24884215972153,
          177.64177037487795,
          145.67128682838893,
          183.0649393017062,
          166.57097673567935,
          164.1431659410427,
          176.52998680006914,
          170.8460277263912,
          164.10208958587492,
          160.265682180992,
          180.26950318977592,
          167.70255344644136,
          159.35512114087265,
          168.26851473401837,
          169.93006364845454,
          174.0213462978735,
          183.43723870203405,
          173.7148420506094,
          176.52914982648872,
          167.99945915832495,
          170.77795983191413,
          187.96588082637015,
          172.28601484054298,
          158.4637549274711,
          183.4279192275414,
          170.09359924607978,
          173.5893453913978,
          163.3878663580395,
          171.7793863890208,
          166.7417367031934,
          171.20275174515285,
          175.03220956753592,
          175.00340315088692,
          177.15234875398482,
          157.70405486345754,
          157.80089623266983,
          147.80621878228905,
          166.15080956042178,
          171.138295306235,
          176.799753958429,
          190.56270632030785,
          183.38278301298323,
          179.2182542127024,
          167.5145085301504,
          180.9477231852855,
          160.6121530891304,
          165.02453236015288,
          174.02582920198807,
          139.17077363515068,
          158.02394128448765,
          173.16133540426873,
          167.1774829299883,
          161.77720962279648,
          174.92526093807953,
          178.6022394092684,
          180.81687182067034,
          168.7829640447241,
          174.82031637800466,
          172.47066622629958,
          181.450246175505,
          172.90707532597523,
          166.03448461250372,
          162.516319686275,
          176.4073018809804,
          178.35132357215156,
          178.0545295377757,
          171.32026086083172,
          175.09141542834874,
          171.3236727052581,
          162.37078101332793,
          166.353601466981,
          176.33257815132762,
          176.688524692852,
          166.7480034728046,
          171.10152796547666,
          171.40642417753944,
          181.83304423354767,
          173.2527873593214,
          166.95757343728147,
          169.73222361454876,
          168.79190741404548,
          163.02949644044426,
          154.64066802386054,
          194.73761725029692,
          169.14728149727887,
          183.50520375956077,
          167.9427992858956,
          176.2112614647095,
          156.70673816648372,
          174.38268120754412,
          179.8744369472825,
          172.8278827706515,
          177.51464440212808,
          172.74845118257545,
          180.24511385160855,
          165.89996980586162,
          191.55165538683642,
          170.4567180993405,
          166.99654162723397,
          173.7227345955286
         ],
         "yaxis": "y2"
        }
       ],
       "layout": {
        "annotations": [
         {
          "font": {
           "size": 16
          },
          "showarrow": false,
          "text": "Histogram",
          "x": 0.225,
          "xanchor": "center",
          "xref": "paper",
          "y": 1,
          "yanchor": "bottom",
          "yref": "paper"
         },
         {
          "font": {
           "size": 16
          },
          "showarrow": false,
          "text": "Box Plot",
          "x": 0.775,
          "xanchor": "center",
          "xref": "paper",
          "y": 1,
          "yanchor": "bottom",
          "yref": "paper"
         }
        ],
        "height": 600,
        "showlegend": false,
        "template": {
         "data": {
          "bar": [
           {
            "error_x": {
             "color": "#2a3f5f"
            },
            "error_y": {
             "color": "#2a3f5f"
            },
            "marker": {
             "line": {
              "color": "#E5ECF6",
              "width": 0.5
             },
             "pattern": {
              "fillmode": "overlay",
              "size": 10,
              "solidity": 0.2
             }
            },
            "type": "bar"
           }
          ],
          "barpolar": [
           {
            "marker": {
             "line": {
              "color": "#E5ECF6",
              "width": 0.5
             },
             "pattern": {
              "fillmode": "overlay",
              "size": 10,
              "solidity": 0.2
             }
            },
            "type": "barpolar"
           }
          ],
          "carpet": [
           {
            "aaxis": {
             "endlinecolor": "#2a3f5f",
             "gridcolor": "white",
             "linecolor": "white",
             "minorgridcolor": "white",
             "startlinecolor": "#2a3f5f"
            },
            "baxis": {
             "endlinecolor": "#2a3f5f",
             "gridcolor": "white",
             "linecolor": "white",
             "minorgridcolor": "white",
             "startlinecolor": "#2a3f5f"
            },
            "type": "carpet"
           }
          ],
          "choropleth": [
           {
            "colorbar": {
             "outlinewidth": 0,
             "ticks": ""
            },
            "type": "choropleth"
           }
          ],
          "contour": [
           {
            "colorbar": {
             "outlinewidth": 0,
             "ticks": ""
            },
            "colorscale": [
             [
              0,
              "#0d0887"
             ],
             [
              0.1111111111111111,
              "#46039f"
             ],
             [
              0.2222222222222222,
              "#7201a8"
             ],
             [
              0.3333333333333333,
              "#9c179e"
             ],
             [
              0.4444444444444444,
              "#bd3786"
             ],
             [
              0.5555555555555556,
              "#d8576b"
             ],
             [
              0.6666666666666666,
              "#ed7953"
             ],
             [
              0.7777777777777778,
              "#fb9f3a"
             ],
             [
              0.8888888888888888,
              "#fdca26"
             ],
             [
              1,
              "#f0f921"
             ]
            ],
            "type": "contour"
           }
          ],
          "contourcarpet": [
           {
            "colorbar": {
             "outlinewidth": 0,
             "ticks": ""
            },
            "type": "contourcarpet"
           }
          ],
          "heatmap": [
           {
            "colorbar": {
             "outlinewidth": 0,
             "ticks": ""
            },
            "colorscale": [
             [
              0,
              "#0d0887"
             ],
             [
              0.1111111111111111,
              "#46039f"
             ],
             [
              0.2222222222222222,
              "#7201a8"
             ],
             [
              0.3333333333333333,
              "#9c179e"
             ],
             [
              0.4444444444444444,
              "#bd3786"
             ],
             [
              0.5555555555555556,
              "#d8576b"
             ],
             [
              0.6666666666666666,
              "#ed7953"
             ],
             [
              0.7777777777777778,
              "#fb9f3a"
             ],
             [
              0.8888888888888888,
              "#fdca26"
             ],
             [
              1,
              "#f0f921"
             ]
            ],
            "type": "heatmap"
           }
          ],
          "heatmapgl": [
           {
            "colorbar": {
             "outlinewidth": 0,
             "ticks": ""
            },
            "colorscale": [
             [
              0,
              "#0d0887"
             ],
             [
              0.1111111111111111,
              "#46039f"
             ],
             [
              0.2222222222222222,
              "#7201a8"
             ],
             [
              0.3333333333333333,
              "#9c179e"
             ],
             [
              0.4444444444444444,
              "#bd3786"
             ],
             [
              0.5555555555555556,
              "#d8576b"
             ],
             [
              0.6666666666666666,
              "#ed7953"
             ],
             [
              0.7777777777777778,
              "#fb9f3a"
             ],
             [
              0.8888888888888888,
              "#fdca26"
             ],
             [
              1,
              "#f0f921"
             ]
            ],
            "type": "heatmapgl"
           }
          ],
          "histogram": [
           {
            "marker": {
             "pattern": {
              "fillmode": "overlay",
              "size": 10,
              "solidity": 0.2
             }
            },
            "type": "histogram"
           }
          ],
          "histogram2d": [
           {
            "colorbar": {
             "outlinewidth": 0,
             "ticks": ""
            },
            "colorscale": [
             [
              0,
              "#0d0887"
             ],
             [
              0.1111111111111111,
              "#46039f"
             ],
             [
              0.2222222222222222,
              "#7201a8"
             ],
             [
              0.3333333333333333,
              "#9c179e"
             ],
             [
              0.4444444444444444,
              "#bd3786"
             ],
             [
              0.5555555555555556,
              "#d8576b"
             ],
             [
              0.6666666666666666,
              "#ed7953"
             ],
             [
              0.7777777777777778,
              "#fb9f3a"
             ],
             [
              0.8888888888888888,
              "#fdca26"
             ],
             [
              1,
              "#f0f921"
             ]
            ],
            "type": "histogram2d"
           }
          ],
          "histogram2dcontour": [
           {
            "colorbar": {
             "outlinewidth": 0,
             "ticks": ""
            },
            "colorscale": [
             [
              0,
              "#0d0887"
             ],
             [
              0.1111111111111111,
              "#46039f"
             ],
             [
              0.2222222222222222,
              "#7201a8"
             ],
             [
              0.3333333333333333,
              "#9c179e"
             ],
             [
              0.4444444444444444,
              "#bd3786"
             ],
             [
              0.5555555555555556,
              "#d8576b"
             ],
             [
              0.6666666666666666,
              "#ed7953"
             ],
             [
              0.7777777777777778,
              "#fb9f3a"
             ],
             [
              0.8888888888888888,
              "#fdca26"
             ],
             [
              1,
              "#f0f921"
             ]
            ],
            "type": "histogram2dcontour"
           }
          ],
          "mesh3d": [
           {
            "colorbar": {
             "outlinewidth": 0,
             "ticks": ""
            },
            "type": "mesh3d"
           }
          ],
          "parcoords": [
           {
            "line": {
             "colorbar": {
              "outlinewidth": 0,
              "ticks": ""
             }
            },
            "type": "parcoords"
           }
          ],
          "pie": [
           {
            "automargin": true,
            "type": "pie"
           }
          ],
          "scatter": [
           {
            "fillpattern": {
             "fillmode": "overlay",
             "size": 10,
             "solidity": 0.2
            },
            "type": "scatter"
           }
          ],
          "scatter3d": [
           {
            "line": {
             "colorbar": {
              "outlinewidth": 0,
              "ticks": ""
             }
            },
            "marker": {
             "colorbar": {
              "outlinewidth": 0,
              "ticks": ""
             }
            },
            "type": "scatter3d"
           }
          ],
          "scattercarpet": [
           {
            "marker": {
             "colorbar": {
              "outlinewidth": 0,
              "ticks": ""
             }
            },
            "type": "scattercarpet"
           }
          ],
          "scattergeo": [
           {
            "marker": {
             "colorbar": {
              "outlinewidth": 0,
              "ticks": ""
             }
            },
            "type": "scattergeo"
           }
          ],
          "scattergl": [
           {
            "marker": {
             "colorbar": {
              "outlinewidth": 0,
              "ticks": ""
             }
            },
            "type": "scattergl"
           }
          ],
          "scattermapbox": [
           {
            "marker": {
             "colorbar": {
              "outlinewidth": 0,
              "ticks": ""
             }
            },
            "type": "scattermapbox"
           }
          ],
          "scatterpolar": [
           {
            "marker": {
             "colorbar": {
              "outlinewidth": 0,
              "ticks": ""
             }
            },
            "type": "scatterpolar"
           }
          ],
          "scatterpolargl": [
           {
            "marker": {
             "colorbar": {
              "outlinewidth": 0,
              "ticks": ""
             }
            },
            "type": "scatterpolargl"
           }
          ],
          "scatterternary": [
           {
            "marker": {
             "colorbar": {
              "outlinewidth": 0,
              "ticks": ""
             }
            },
            "type": "scatterternary"
           }
          ],
          "surface": [
           {
            "colorbar": {
             "outlinewidth": 0,
             "ticks": ""
            },
            "colorscale": [
             [
              0,
              "#0d0887"
             ],
             [
              0.1111111111111111,
              "#46039f"
             ],
             [
              0.2222222222222222,
              "#7201a8"
             ],
             [
              0.3333333333333333,
              "#9c179e"
             ],
             [
              0.4444444444444444,
              "#bd3786"
             ],
             [
              0.5555555555555556,
              "#d8576b"
             ],
             [
              0.6666666666666666,
              "#ed7953"
             ],
             [
              0.7777777777777778,
              "#fb9f3a"
             ],
             [
              0.8888888888888888,
              "#fdca26"
             ],
             [
              1,
              "#f0f921"
             ]
            ],
            "type": "surface"
           }
          ],
          "table": [
           {
            "cells": {
             "fill": {
              "color": "#EBF0F8"
             },
             "line": {
              "color": "white"
             }
            },
            "header": {
             "fill": {
              "color": "#C8D4E3"
             },
             "line": {
              "color": "white"
             }
            },
            "type": "table"
           }
          ]
         },
         "layout": {
          "annotationdefaults": {
           "arrowcolor": "#2a3f5f",
           "arrowhead": 0,
           "arrowwidth": 1
          },
          "autotypenumbers": "strict",
          "coloraxis": {
           "colorbar": {
            "outlinewidth": 0,
            "ticks": ""
           }
          },
          "colorscale": {
           "diverging": [
            [
             0,
             "#8e0152"
            ],
            [
             0.1,
             "#c51b7d"
            ],
            [
             0.2,
             "#de77ae"
            ],
            [
             0.3,
             "#f1b6da"
            ],
            [
             0.4,
             "#fde0ef"
            ],
            [
             0.5,
             "#f7f7f7"
            ],
            [
             0.6,
             "#e6f5d0"
            ],
            [
             0.7,
             "#b8e186"
            ],
            [
             0.8,
             "#7fbc41"
            ],
            [
             0.9,
             "#4d9221"
            ],
            [
             1,
             "#276419"
            ]
           ],
           "sequential": [
            [
             0,
             "#0d0887"
            ],
            [
             0.1111111111111111,
             "#46039f"
            ],
            [
             0.2222222222222222,
             "#7201a8"
            ],
            [
             0.3333333333333333,
             "#9c179e"
            ],
            [
             0.4444444444444444,
             "#bd3786"
            ],
            [
             0.5555555555555556,
             "#d8576b"
            ],
            [
             0.6666666666666666,
             "#ed7953"
            ],
            [
             0.7777777777777778,
             "#fb9f3a"
            ],
            [
             0.8888888888888888,
             "#fdca26"
            ],
            [
             1,
             "#f0f921"
            ]
           ],
           "sequentialminus": [
            [
             0,
             "#0d0887"
            ],
            [
             0.1111111111111111,
             "#46039f"
            ],
            [
             0.2222222222222222,
             "#7201a8"
            ],
            [
             0.3333333333333333,
             "#9c179e"
            ],
            [
             0.4444444444444444,
             "#bd3786"
            ],
            [
             0.5555555555555556,
             "#d8576b"
            ],
            [
             0.6666666666666666,
             "#ed7953"
            ],
            [
             0.7777777777777778,
             "#fb9f3a"
            ],
            [
             0.8888888888888888,
             "#fdca26"
            ],
            [
             1,
             "#f0f921"
            ]
           ]
          },
          "colorway": [
           "#636efa",
           "#EF553B",
           "#00cc96",
           "#ab63fa",
           "#FFA15A",
           "#19d3f3",
           "#FF6692",
           "#B6E880",
           "#FF97FF",
           "#FECB52"
          ],
          "font": {
           "color": "#2a3f5f"
          },
          "geo": {
           "bgcolor": "white",
           "lakecolor": "white",
           "landcolor": "#E5ECF6",
           "showlakes": true,
           "showland": true,
           "subunitcolor": "white"
          },
          "hoverlabel": {
           "align": "left"
          },
          "hovermode": "closest",
          "mapbox": {
           "style": "light"
          },
          "paper_bgcolor": "white",
          "plot_bgcolor": "#E5ECF6",
          "polar": {
           "angularaxis": {
            "gridcolor": "white",
            "linecolor": "white",
            "ticks": ""
           },
           "bgcolor": "#E5ECF6",
           "radialaxis": {
            "gridcolor": "white",
            "linecolor": "white",
            "ticks": ""
           }
          },
          "scene": {
           "xaxis": {
            "backgroundcolor": "#E5ECF6",
            "gridcolor": "white",
            "gridwidth": 2,
            "linecolor": "white",
            "showbackground": true,
            "ticks": "",
            "zerolinecolor": "white"
           },
           "yaxis": {
            "backgroundcolor": "#E5ECF6",
            "gridcolor": "white",
            "gridwidth": 2,
            "linecolor": "white",
            "showbackground": true,
            "ticks": "",
            "zerolinecolor": "white"
           },
           "zaxis": {
            "backgroundcolor": "#E5ECF6",
            "gridcolor": "white",
            "gridwidth": 2,
            "linecolor": "white",
            "showbackground": true,
            "ticks": "",
            "zerolinecolor": "white"
           }
          },
          "shapedefaults": {
           "line": {
            "color": "#2a3f5f"
           }
          },
          "ternary": {
           "aaxis": {
            "gridcolor": "white",
            "linecolor": "white",
            "ticks": ""
           },
           "baxis": {
            "gridcolor": "white",
            "linecolor": "white",
            "ticks": ""
           },
           "bgcolor": "#E5ECF6",
           "caxis": {
            "gridcolor": "white",
            "linecolor": "white",
            "ticks": ""
           }
          },
          "title": {
           "x": 0.05
          },
          "xaxis": {
           "automargin": true,
           "gridcolor": "white",
           "linecolor": "white",
           "ticks": "",
           "title": {
            "standoff": 15
           },
           "zerolinecolor": "white",
           "zerolinewidth": 2
          },
          "yaxis": {
           "automargin": true,
           "gridcolor": "white",
           "linecolor": "white",
           "ticks": "",
           "title": {
            "standoff": 15
           },
           "zerolinecolor": "white",
           "zerolinewidth": 2
          }
         }
        },
        "title": {
         "text": "Random Sample of Heights from Gaussian-like Distribution"
        },
        "width": 1200,
        "xaxis": {
         "anchor": "y",
         "autorange": true,
         "domain": [
          0,
          0.45
         ],
         "range": [
          138,
          196
         ],
         "title": {
          "text": "Height (cm)"
         },
         "type": "linear"
        },
        "xaxis2": {
         "anchor": "y2",
         "autorange": true,
         "domain": [
          0.55,
          1
         ],
         "range": [
          -0.5,
          0.5
         ],
         "title": {
          "text": "Height (cm)"
         },
         "type": "category"
        },
        "yaxis": {
         "anchor": "x",
         "autorange": true,
         "domain": [
          0,
          1
         ],
         "range": [
          0,
          114.73684210526315
         ],
         "title": {
          "text": "Probability Density"
         }
        },
        "yaxis2": {
         "anchor": "x2",
         "autorange": true,
         "domain": [
          0,
          1
         ],
         "range": [
          136.0424093497578,
          198.60969505761528
         ],
         "title": {
          "text": ""
         },
         "type": "linear"
        }
       }
      },
      "text/html": [
       "<div>                            <div id=\"201e0e1f-5dd5-44c3-a68f-d566ec5d49a3\" class=\"plotly-graph-div\" style=\"height:600px; width:1200px;\"></div>            <script type=\"text/javascript\">                require([\"plotly\"], function(Plotly) {                    window.PLOTLYENV=window.PLOTLYENV || {};                                    if (document.getElementById(\"201e0e1f-5dd5-44c3-a68f-d566ec5d49a3\")) {                    Plotly.newPlot(                        \"201e0e1f-5dd5-44c3-a68f-d566ec5d49a3\",                        [{\"marker\":{\"color\":\"green\",\"line\":{\"color\":\"black\",\"width\":1}},\"nbinsx\":30,\"opacity\":0.6,\"x\":[170.59040011634693,176.62054263284938,179.46358422558063,166.6568439293957,158.60044100444702,167.43568625094264,169.5359285731767,171.94999122749792,164.13835497948085,166.00323513386513,181.6830552631747,163.45359303335496,170.37390049494365,175.63571733610885,170.3349195687632,172.89858374319743,166.78429919876055,159.1602778334588,165.28312913532974,162.71355665165245,184.08206611430595,156.36140269136894,171.30159639376052,170.39615318495385,177.3377422275303,176.8171688532149,173.2411122311676,167.31674171017724,180.90740361684632,169.93684727587458,166.4258544160291,163.60235080796815,162.5659271835961,167.4793982966669,157.8175551072824,176.3154702588944,166.8191966739788,174.47622267186836,179.38258139481772,155.0333769053052,182.6195879092628,175.87567983860282,168.21945096663669,159.14957287352826,167.93711310995974,172.79069146678853,172.18252610566807,183.0223915898215,165.67112710166344,166.438014938006,163.8675370945375,165.82737509545822,158.92424966226514,174.61624979281132,152.39697497481575,170.02226291250187,169.94916669171548,160.98007682815756,182.68817833631428,177.45325430961924,177.4884987578009,169.81229733449658,160.94515456979684,164.14889630194858,160.74124298106403,175.4308682716221,169.27566505940413,167.98093168931268,150.01954487689073,172.672407601919,173.40731475352806,179.67325180766176,173.94999405788656,163.36576733284016,175.1470482524629,162.08567207956537,166.380133635321,160.46013366702866,180.04474955929754,167.0207980331366,159.2009680385609,160.08621407547162,167.55874668085966,173.34880894194103,165.645826785078,176.89194637921094,178.273996346027,164.32221727827422,178.1636851252921,162.4190374040886,175.27024662273573,168.38107426334247,168.77074114173118,173.94627204594278,179.73128400981537,156.104906990923,168.48657669074962,179.4738707589466,176.7904024750451,169.9553161757742,195.4813307722224,183.32760668281176,171.60487015541347,152.567443858997,173.44119239588437,162.70497280849557,164.2310189717568,162.29461305895433,175.55873456104257,174.41144106634061,165.5537558267898,160.38231967024623,174.68918812112406,180.50266829378032,166.9667709925316,173.61683514353683,168.6685310461177,168.15787993827527,153.61515872105696,164.60737931790447,174.83600849616116,173.7150784664262,172.28250119060232,181.21448253202252,172.87949828467583,181.99519224630976,164.33786922893105,161.30624437707394,169.49916174591786,161.4514049630407,173.9967983144856,175.91768807567024,173.75974645517198,169.76262257013002,180.23194787998415,171.09797976462903,160.21369328434486,184.6104859002032,176.47839052421736,153.0986147693015,180.4664271691183,161.7081388988809,156.67349736255497,165.87046571131137,180.6705713628004,168.19546064978638,181.76236183204935,173.00878678689782,177.42523125404034,160.39115926757603,171.6831262294708,174.6913617142666,163.49569913147278,167.97805554733202,176.21973377010983,180.5988295823377,176.93478187843405,175.90987660275016,168.37775996078494,181.14976971643216,166.51495748970638,164.37954094517633,176.16623035957747,157.63838604433974,171.10727619020992,178.04258321728986,165.58118530323745,176.77973264380873,171.9331396476504,188.05766319157675,171.16028699213572,186.39500704412623,168.08889740879434,168.03237070830315,157.2353435855388,174.58014840270283,178.20624155843478,169.2367807646501,170.82301460831832,161.5077770922789,167.41341717458818,172.8216595910728,180.63208120201932,175.33859500280494,165.23468215253598,164.58477262399055,163.50165508824148,156.0956855058017,183.39539062032037,161.97096605551224,170.36897042320743,166.31669599568843,171.85988420832666,157.99110703761374,169.12065214651778,163.69657993654852,173.0161443745956,174.10017767449264,178.11344054772348,170.55595131820664,162.79753200916005,164.98984309110298,158.15929211022404,175.72995795633085,162.0215852490985,179.9784165363042,171.14348559295044,178.64941089995108,165.64494852470023,173.5685703404539,165.58319469850255,170.0561088834671,167.3151824048661,167.33690028328908,168.40927065660924,161.2623387075223,152.48383682872614,174.77356185015003,161.91888758278085,172.4023217831305,162.43040283245378,158.41545796585999,171.9932557392612,173.50614345997383,162.25374539626645,176.80269710059284,173.31694026063664,162.04634323577497,167.53081368522763,170.46655637380863,163.218172835272,165.57436996646524,161.34092617804737,173.5905637838553,169.92905923482815,178.5823302653097,157.14173605505144,177.58651616948757,167.885883005994,161.14262545212966,169.6332650162792,165.59447965363398,168.02863190719557,174.13733209740528,174.12304002514506,176.5733434002618,172.0164610130636,152.6628591027605,174.80047192826427,181.959922927832,177.3626834192436,171.92433606634503,173.44939873949573,170.59519743601524,171.33606620469757,179.5909869419945,164.56155108760208,152.78416684919844,173.1372765896506,172.65052815034107,170.4423402578676,176.59561674305812,177.33943322610648,162.2599963625518,170.0089297720838,174.65226943207696,181.22038479494387,183.35295800412683,171.99593565772082,159.46894674863822,177.23345658191144,151.7912904854244,177.5927012532927,165.65904006349592,175.27894770742313,160.63903339267333,179.87121989288818,165.49894223789283,171.7894273110473,174.6899977259399,171.69046898053793,166.5147397699867,172.79711568183603,165.5133623955112,170.5450442688217,159.39859197682335,171.84954465206445,177.64429980442765,158.75170244442347,182.43100080539804,172.74720393424712,161.27013073910737,176.25880920247457,163.45765047824344,181.6447951844531,174.11247595012674,157.21705450571588,169.71890401570332,160.71294051196693,179.93492849274327,147.794612801534,169.52200350032174,172.57317651535814,166.69089885370514,164.15938228121018,172.70448172093222,166.80740898713955,187.8752248456215,161.48168776092186,154.09654369617593,171.25579611960265,176.56218275362258,168.88899899917178,165.92182156905326,173.38410005796092,172.5263230142524,175.83011773185993,184.00150711088622,163.30496563025238,171.32397932367957,182.8959237019325,184.56555873276,164.3756464422054,163.61799335372967,170.57195825064213,175.08196635556808,172.2789455521859,173.89963800991035,187.6027671053203,166.85243070412537,170.31991241939235,178.13772807618318,155.23759298068939,165.49510135082147,173.1715854934637,160.76737471378706,166.30263458869467,181.07220274932018,171.24226638068387,166.2533453805441,167.8789527472729,175.53915380063827,159.74158111454867,164.84715005017514,183.52818767302864,172.79482698178995,178.06956935303702,161.80233422769075,173.0287926886013,173.0947536637817,173.17997161960406,165.11745748210555,176.14619355000553,191.2948913251365,162.71794584745956,165.07633142889532,166.4275952597496,172.18314399109332,154.14822543540532,165.23481837682542,164.2615565295473,170.5600914038005,190.25235155248868,169.1969366638601,172.42989123441248,170.32098685283694,159.90975020058008,168.35129692660598,169.09043287887644,160.47116853334882,184.61736291797146,174.85336282526367,174.98772227188923,159.72031646867367,173.9107417171234,165.3169034233432,167.6925087286946,178.76103308125073,173.52634145312084,175.3774648709309,163.7315027935838,170.88732257309164,152.82771241768958,169.84992816089596,173.43192649948142,187.1028513305246,169.95588171750308,173.69604609578812,171.73877935017418,163.4516062449156,165.1835150297589,171.85180678407554,178.61987172586453,163.62325695416925,171.49257703205578,162.73016799908447,171.8811081901276,168.16890016429255,158.44175229381588,164.42302880755042,165.13311175330196,163.61137720317043,177.80564216220546,182.12701448376558,188.35646742831648,179.37527078096284,191.61845880251653,171.42777431443903,178.2409909831635,179.73640772029677,164.67959590399752,172.53206879886758,150.32473100132188,170.73926116745764,175.81461880407977,176.13376751743874,168.84527508631479,156.53005427842697,176.61255716425924,178.5444382519837,165.2640494962889,182.9907367465789,167.5282947620634,173.93555957224314,172.42681311969693,179.59836150968104,173.64458937387994,176.01876651921597,167.870723652101,153.9212271700792,165.89468898390774,155.77310988061708,174.91393315100993,170.25001293751362,180.12715254365034,165.77815189280005,182.09643221252887,177.20816418862944,172.37057314055758,160.95392137736147,173.05839748887485,164.28261569885188,165.84813926747105,158.98030106351308,169.074481222635,166.89235475156656,179.19943658565336,181.17831287163494,162.90811792237108,166.81066122096044,167.83293899731336,156.57667270861003,157.4941335728226,169.02079477677844,166.33378721251768,158.98368151386464,147.4169561192843,168.95976435620838,174.13166372262882,177.34386272691017,159.03228464418046,163.51765716897486,176.39938638459208,186.42043779625206,177.34736382220402,172.61339069263667,169.19046444537202,170.25608682233883,159.34170787314235,157.24843897854342,188.5558397011948,172.47167681566535,178.42872166316977,178.07934590457032,178.9138297066916,167.23332868208377,173.21968079282053,170.1944785491984,170.18775318106324,159.22137381701617,168.31312043704327,177.5271178249563,168.40995571871358,175.2585764938775,155.31933423918696,176.8044970857909,162.46250111418954,169.48914074441748,181.68538742711388,167.3631662170621,163.79106585578145,170.74810289226903,172.64783120743735,158.1907192985741,169.03948573468975,157.66632598684197,166.26407467493553,182.5430769803229,172.3728980242708,184.5537349447353,158.4826027666147,165.7315156610454,154.4108159087128,160.1650202428079,160.62177700157167,181.35487893863882,168.02876805915236,168.989711846665,157.9045998210922,166.90057805802502,183.53648423475164,169.47538244874454,165.0981440482569,170.05427315747198,170.96883284248804,185.44569432727664,173.9837642876693,165.44675821654087,167.4575344651208,161.65787134412457,156.25704126928076,173.2996228925591,172.47452828743343,160.84798265435487,173.29073338949254,171.43990000589622,185.15310296903294,168.52999743792495,165.2883263417413,156.08806460996448,166.69798915742828,173.80034268312028,164.17963595497375,157.94164790147542,161.24617385736212,168.94199638129126,175.84941529603324,164.61045045650954,173.00049669291985,178.79815907948603,166.6734460330881,182.4796413702546,168.8249937033237,172.03162482306325,172.1085339742862,158.7655748240605,170.31671651949003,172.33538426740705,174.46620901869787,180.1674610464372,177.36146750465707,173.87095764625354,171.1923760435931,157.4043176169181,172.06898950359604,178.2347975204589,167.83518839506863,175.71293631980433,172.18825726679904,155.30286506349225,165.68129607030303,174.52222121945397,172.03317800374055,171.9318772783847,164.3510643549033,167.38232980591243,176.62447282398406,168.6308932112738,153.43016727061664,155.56921543033084,183.35855249719333,167.2474970510826,168.19613979668463,174.13840220739877,169.17058832773515,177.9108007665302,162.76634674986738,172.56597663937552,162.67251531121323,169.1366998288854,156.83245506581798,172.38850270638756,170.78922154990943,170.30700809048946,182.45296032276906,171.0500913929507,175.20936925971324,154.8188316452267,181.88741331974362,162.25848896013127,173.92498307759507,160.3126263817894,174.91100163121192,167.63248454027047,170.76451585491478,169.62320691917947,178.6768718962947,178.01547446896566,184.28525942853182,157.90048602322517,170.477124102547,155.93405559610235,172.31451122122436,174.54859154954633,170.30317399488342,173.49190786041595,176.86707879622173,166.9098844533347,170.21781631677098,164.2774767587079,162.2714430183572,183.9084503744849,164.45106444264664,180.6536679572127,158.3590292042562,167.8188623571737,170.1971328586734,169.88815867599465,159.5699135287467,179.87695949982293,176.58420739042208,176.1034352665779,170.8024510614322,164.93942199417398,170.85493275981585,168.10422667220521,159.5447016676939,156.7523148536464,168.4594595272661,176.36903332788245,169.70313468820203,174.6699421386152,164.57984483393716,161.2220352152146,168.34684511200294,167.71865169952625,161.27412926954506,170.02082022615912,170.71274792847302,168.15537274415362,161.99777990654184,173.02238111814285,177.56855608502318,172.5437138801442,179.5483477098357,176.36266858173238,171.49190928918097,169.75146013974975,165.12135476330582,161.92454482579296,179.20182168356322,168.6693243513724,180.38422025255437,171.59336539588983,164.90821950489033,169.28359717341075,161.70939750384719,174.26530958240258,181.11854130259437,164.0213192277044,162.54821885610355,167.29300863001717,159.58471784408607,164.06719835145148,178.00027400964368,165.18744343647495,168.79928803246736,162.09053571639765,175.3231636898421,165.09315542393722,175.59960507949415,174.18753899427196,161.27170603138782,175.94117213366292,182.39559713482407,177.91077963194178,177.11538736117384,161.96845671202226,171.8276482286937,162.24561087981718,157.11192787710385,173.63578742521207,184.6419382817782,173.20937618781238,174.2111803543485,157.67671319894714,165.14546166771842,174.80315328268762,166.66469973205858,181.1588993568353,163.11305799949733,162.0967845309966,176.15536817140713,167.00284390439836,176.8944344706865,172.95654352632585,165.43061669298973,173.40722597935454,173.47775795057873,181.5469117661376,170.30795490470098,170.20290479974312,166.99431186884146,180.7361580808793,176.74740295932978,167.02629906482636,169.85679322366946,182.6799179597154,180.06245886819096,166.30684714100275,172.70191796378694,170.84974723599004,180.530937673839,164.4536743556992,166.16870139430324,171.83625055162548,167.05358883821674,174.7351341710519,153.93889498413614,168.91742931895539,175.4897350750916,175.5882188948883,166.12281888683248,176.18155640921026,166.98773778620532,175.7426356723286,167.35584508872597,195.18937759048,172.62054169654652,176.1714057620234,165.2570342521087,165.93737340795525,176.31412030868768,181.17519236326294,164.64233250752628,170.0772643451528,174.7016581383467,164.54215517650053,176.72722680732048,145.7218965986519,159.63549743897707,174.3933010912506,172.98664244349342,171.62667281810545,170.04520555839434,176.24781379874952,168.18807444185842,163.42264639995608,170.7032869416583,172.71743253425404,167.89927365398447,174.67114390314478,179.96841628463778,165.05550553956004,171.19540064956965,164.41345404905408,173.46346929070089,161.32513436661563,158.43890245765473,184.2651358171703,172.58059034298918,166.76070838718272,161.59194276213472,185.03999768564637,185.01622253763355,177.25527950202826,182.54986306557663,167.80610468459918,169.80709555073133,174.73021493074742,158.64369827004586,167.10924186306218,170.8681470814786,174.10681992188472,176.23905341261397,167.26985768646745,169.2929096358211,166.50324681543768,162.9876780710645,168.49308033072037,161.73697524492712,158.12383797074312,174.2665998078745,167.2753499376981,190.26598209267775,174.3090571395821,160.28045870732223,167.10603475302833,172.1589265344845,172.06306139301685,171.3920476408841,168.0842615026176,163.82092159102243,171.67205425738126,182.3210283079565,162.28457070084568,170.7668840951802,168.54499819176104,172.04448968947102,160.86034642529754,155.76140983963674,160.8790018864561,161.96612632257074,176.4205466937037,180.67481396111435,180.09546980153445,160.68497711868253,171.4815997514097,158.71581686796722,157.8618252456132,145.21109730174405,177.41179269243398,153.5370431685218,156.04424070867597,169.70805735023453,165.45057808222361,173.22729326101367,178.23322354970378,166.62905403271915,160.89109997642925,192.34644469984195,179.3067514530471,176.19651608728427,178.5599987438117,155.99893362684168,165.64857124975705,176.52127550131001,168.4462270386238,167.51973415602728,160.53395640777563,151.25303278727574,179.15740058524554,182.5249690645959,168.94585195115744,181.37028522607102,164.97540896762973,167.60517140148596,168.84085013198256,163.8569032236025,175.9023730863597,172.60167232011935,169.67625304316914,174.36852690406909,174.5068995811944,165.14911627891044,165.04763894543962,166.17326065760486,179.6807088133221,156.52952510684813,176.57549928540175,150.3560353313458,168.61400996951915,168.6485123333355,162.32051608303777,172.57065342692826,171.4045911298501,162.2318883434528,168.72808834773076,171.57200007633034,160.12051282257536,151.74679751196732,175.03131648999397,171.82953535214492,153.30011404546246,177.57429923658728,177.26372472803854,167.66253858050604,158.4414626913652,160.97783186991848,178.59354844506683,166.6049519713046,162.91664446363143,177.3374605182114,173.80339808544693,168.83761742186576,164.60485892610657,173.49699564717181,170.2990711977865,172.34818108256704,181.68323847450569,155.48786821002471,179.80623175206247,183.70335155227633,163.1892135859439,166.60338832343473,174.68669881910895,167.03030186534832,154.31325230775096,170.7665605161585,165.967604956506,171.9354541367084,174.05171708797258,166.64881006446927,173.4815074463086,165.26131392687188,178.10069022288752,177.27183780623398,171.78029791740423,180.0970189647861,179.64495438058367,169.24884215972153,177.64177037487795,145.67128682838893,183.0649393017062,166.57097673567935,164.1431659410427,176.52998680006914,170.8460277263912,164.10208958587492,160.265682180992,180.26950318977592,167.70255344644136,159.35512114087265,168.26851473401837,169.93006364845454,174.0213462978735,183.43723870203405,173.7148420506094,176.52914982648872,167.99945915832495,170.77795983191413,187.96588082637015,172.28601484054298,158.4637549274711,183.4279192275414,170.09359924607978,173.5893453913978,163.3878663580395,171.7793863890208,166.7417367031934,171.20275174515285,175.03220956753592,175.00340315088692,177.15234875398482,157.70405486345754,157.80089623266983,147.80621878228905,166.15080956042178,171.138295306235,176.799753958429,190.56270632030785,183.38278301298323,179.2182542127024,167.5145085301504,180.9477231852855,160.6121530891304,165.02453236015288,174.02582920198807,139.17077363515068,158.02394128448765,173.16133540426873,167.1774829299883,161.77720962279648,174.92526093807953,178.6022394092684,180.81687182067034,168.7829640447241,174.82031637800466,172.47066622629958,181.450246175505,172.90707532597523,166.03448461250372,162.516319686275,176.4073018809804,178.35132357215156,178.0545295377757,171.32026086083172,175.09141542834874,171.3236727052581,162.37078101332793,166.353601466981,176.33257815132762,176.688524692852,166.7480034728046,171.10152796547666,171.40642417753944,181.83304423354767,173.2527873593214,166.95757343728147,169.73222361454876,168.79190741404548,163.02949644044426,154.64066802386054,194.73761725029692,169.14728149727887,183.50520375956077,167.9427992858956,176.2112614647095,156.70673816648372,174.38268120754412,179.8744369472825,172.8278827706515,177.51464440212808,172.74845118257545,180.24511385160855,165.89996980586162,191.55165538683642,170.4567180993405,166.99654162723397,173.7227345955286],\"type\":\"histogram\",\"xaxis\":\"x\",\"yaxis\":\"y\"},{\"jitter\":0,\"pointpos\":0,\"y\":[170.59040011634693,176.62054263284938,179.46358422558063,166.6568439293957,158.60044100444702,167.43568625094264,169.5359285731767,171.94999122749792,164.13835497948085,166.00323513386513,181.6830552631747,163.45359303335496,170.37390049494365,175.63571733610885,170.3349195687632,172.89858374319743,166.78429919876055,159.1602778334588,165.28312913532974,162.71355665165245,184.08206611430595,156.36140269136894,171.30159639376052,170.39615318495385,177.3377422275303,176.8171688532149,173.2411122311676,167.31674171017724,180.90740361684632,169.93684727587458,166.4258544160291,163.60235080796815,162.5659271835961,167.4793982966669,157.8175551072824,176.3154702588944,166.8191966739788,174.47622267186836,179.38258139481772,155.0333769053052,182.6195879092628,175.87567983860282,168.21945096663669,159.14957287352826,167.93711310995974,172.79069146678853,172.18252610566807,183.0223915898215,165.67112710166344,166.438014938006,163.8675370945375,165.82737509545822,158.92424966226514,174.61624979281132,152.39697497481575,170.02226291250187,169.94916669171548,160.98007682815756,182.68817833631428,177.45325430961924,177.4884987578009,169.81229733449658,160.94515456979684,164.14889630194858,160.74124298106403,175.4308682716221,169.27566505940413,167.98093168931268,150.01954487689073,172.672407601919,173.40731475352806,179.67325180766176,173.94999405788656,163.36576733284016,175.1470482524629,162.08567207956537,166.380133635321,160.46013366702866,180.04474955929754,167.0207980331366,159.2009680385609,160.08621407547162,167.55874668085966,173.34880894194103,165.645826785078,176.89194637921094,178.273996346027,164.32221727827422,178.1636851252921,162.4190374040886,175.27024662273573,168.38107426334247,168.77074114173118,173.94627204594278,179.73128400981537,156.104906990923,168.48657669074962,179.4738707589466,176.7904024750451,169.9553161757742,195.4813307722224,183.32760668281176,171.60487015541347,152.567443858997,173.44119239588437,162.70497280849557,164.2310189717568,162.29461305895433,175.55873456104257,174.41144106634061,165.5537558267898,160.38231967024623,174.68918812112406,180.50266829378032,166.9667709925316,173.61683514353683,168.6685310461177,168.15787993827527,153.61515872105696,164.60737931790447,174.83600849616116,173.7150784664262,172.28250119060232,181.21448253202252,172.87949828467583,181.99519224630976,164.33786922893105,161.30624437707394,169.49916174591786,161.4514049630407,173.9967983144856,175.91768807567024,173.75974645517198,169.76262257013002,180.23194787998415,171.09797976462903,160.21369328434486,184.6104859002032,176.47839052421736,153.0986147693015,180.4664271691183,161.7081388988809,156.67349736255497,165.87046571131137,180.6705713628004,168.19546064978638,181.76236183204935,173.00878678689782,177.42523125404034,160.39115926757603,171.6831262294708,174.6913617142666,163.49569913147278,167.97805554733202,176.21973377010983,180.5988295823377,176.93478187843405,175.90987660275016,168.37775996078494,181.14976971643216,166.51495748970638,164.37954094517633,176.16623035957747,157.63838604433974,171.10727619020992,178.04258321728986,165.58118530323745,176.77973264380873,171.9331396476504,188.05766319157675,171.16028699213572,186.39500704412623,168.08889740879434,168.03237070830315,157.2353435855388,174.58014840270283,178.20624155843478,169.2367807646501,170.82301460831832,161.5077770922789,167.41341717458818,172.8216595910728,180.63208120201932,175.33859500280494,165.23468215253598,164.58477262399055,163.50165508824148,156.0956855058017,183.39539062032037,161.97096605551224,170.36897042320743,166.31669599568843,171.85988420832666,157.99110703761374,169.12065214651778,163.69657993654852,173.0161443745956,174.10017767449264,178.11344054772348,170.55595131820664,162.79753200916005,164.98984309110298,158.15929211022404,175.72995795633085,162.0215852490985,179.9784165363042,171.14348559295044,178.64941089995108,165.64494852470023,173.5685703404539,165.58319469850255,170.0561088834671,167.3151824048661,167.33690028328908,168.40927065660924,161.2623387075223,152.48383682872614,174.77356185015003,161.91888758278085,172.4023217831305,162.43040283245378,158.41545796585999,171.9932557392612,173.50614345997383,162.25374539626645,176.80269710059284,173.31694026063664,162.04634323577497,167.53081368522763,170.46655637380863,163.218172835272,165.57436996646524,161.34092617804737,173.5905637838553,169.92905923482815,178.5823302653097,157.14173605505144,177.58651616948757,167.885883005994,161.14262545212966,169.6332650162792,165.59447965363398,168.02863190719557,174.13733209740528,174.12304002514506,176.5733434002618,172.0164610130636,152.6628591027605,174.80047192826427,181.959922927832,177.3626834192436,171.92433606634503,173.44939873949573,170.59519743601524,171.33606620469757,179.5909869419945,164.56155108760208,152.78416684919844,173.1372765896506,172.65052815034107,170.4423402578676,176.59561674305812,177.33943322610648,162.2599963625518,170.0089297720838,174.65226943207696,181.22038479494387,183.35295800412683,171.99593565772082,159.46894674863822,177.23345658191144,151.7912904854244,177.5927012532927,165.65904006349592,175.27894770742313,160.63903339267333,179.87121989288818,165.49894223789283,171.7894273110473,174.6899977259399,171.69046898053793,166.5147397699867,172.79711568183603,165.5133623955112,170.5450442688217,159.39859197682335,171.84954465206445,177.64429980442765,158.75170244442347,182.43100080539804,172.74720393424712,161.27013073910737,176.25880920247457,163.45765047824344,181.6447951844531,174.11247595012674,157.21705450571588,169.71890401570332,160.71294051196693,179.93492849274327,147.794612801534,169.52200350032174,172.57317651535814,166.69089885370514,164.15938228121018,172.70448172093222,166.80740898713955,187.8752248456215,161.48168776092186,154.09654369617593,171.25579611960265,176.56218275362258,168.88899899917178,165.92182156905326,173.38410005796092,172.5263230142524,175.83011773185993,184.00150711088622,163.30496563025238,171.32397932367957,182.8959237019325,184.56555873276,164.3756464422054,163.61799335372967,170.57195825064213,175.08196635556808,172.2789455521859,173.89963800991035,187.6027671053203,166.85243070412537,170.31991241939235,178.13772807618318,155.23759298068939,165.49510135082147,173.1715854934637,160.76737471378706,166.30263458869467,181.07220274932018,171.24226638068387,166.2533453805441,167.8789527472729,175.53915380063827,159.74158111454867,164.84715005017514,183.52818767302864,172.79482698178995,178.06956935303702,161.80233422769075,173.0287926886013,173.0947536637817,173.17997161960406,165.11745748210555,176.14619355000553,191.2948913251365,162.71794584745956,165.07633142889532,166.4275952597496,172.18314399109332,154.14822543540532,165.23481837682542,164.2615565295473,170.5600914038005,190.25235155248868,169.1969366638601,172.42989123441248,170.32098685283694,159.90975020058008,168.35129692660598,169.09043287887644,160.47116853334882,184.61736291797146,174.85336282526367,174.98772227188923,159.72031646867367,173.9107417171234,165.3169034233432,167.6925087286946,178.76103308125073,173.52634145312084,175.3774648709309,163.7315027935838,170.88732257309164,152.82771241768958,169.84992816089596,173.43192649948142,187.1028513305246,169.95588171750308,173.69604609578812,171.73877935017418,163.4516062449156,165.1835150297589,171.85180678407554,178.61987172586453,163.62325695416925,171.49257703205578,162.73016799908447,171.8811081901276,168.16890016429255,158.44175229381588,164.42302880755042,165.13311175330196,163.61137720317043,177.80564216220546,182.12701448376558,188.35646742831648,179.37527078096284,191.61845880251653,171.42777431443903,178.2409909831635,179.73640772029677,164.67959590399752,172.53206879886758,150.32473100132188,170.73926116745764,175.81461880407977,176.13376751743874,168.84527508631479,156.53005427842697,176.61255716425924,178.5444382519837,165.2640494962889,182.9907367465789,167.5282947620634,173.93555957224314,172.42681311969693,179.59836150968104,173.64458937387994,176.01876651921597,167.870723652101,153.9212271700792,165.89468898390774,155.77310988061708,174.91393315100993,170.25001293751362,180.12715254365034,165.77815189280005,182.09643221252887,177.20816418862944,172.37057314055758,160.95392137736147,173.05839748887485,164.28261569885188,165.84813926747105,158.98030106351308,169.074481222635,166.89235475156656,179.19943658565336,181.17831287163494,162.90811792237108,166.81066122096044,167.83293899731336,156.57667270861003,157.4941335728226,169.02079477677844,166.33378721251768,158.98368151386464,147.4169561192843,168.95976435620838,174.13166372262882,177.34386272691017,159.03228464418046,163.51765716897486,176.39938638459208,186.42043779625206,177.34736382220402,172.61339069263667,169.19046444537202,170.25608682233883,159.34170787314235,157.24843897854342,188.5558397011948,172.47167681566535,178.42872166316977,178.07934590457032,178.9138297066916,167.23332868208377,173.21968079282053,170.1944785491984,170.18775318106324,159.22137381701617,168.31312043704327,177.5271178249563,168.40995571871358,175.2585764938775,155.31933423918696,176.8044970857909,162.46250111418954,169.48914074441748,181.68538742711388,167.3631662170621,163.79106585578145,170.74810289226903,172.64783120743735,158.1907192985741,169.03948573468975,157.66632598684197,166.26407467493553,182.5430769803229,172.3728980242708,184.5537349447353,158.4826027666147,165.7315156610454,154.4108159087128,160.1650202428079,160.62177700157167,181.35487893863882,168.02876805915236,168.989711846665,157.9045998210922,166.90057805802502,183.53648423475164,169.47538244874454,165.0981440482569,170.05427315747198,170.96883284248804,185.44569432727664,173.9837642876693,165.44675821654087,167.4575344651208,161.65787134412457,156.25704126928076,173.2996228925591,172.47452828743343,160.84798265435487,173.29073338949254,171.43990000589622,185.15310296903294,168.52999743792495,165.2883263417413,156.08806460996448,166.69798915742828,173.80034268312028,164.17963595497375,157.94164790147542,161.24617385736212,168.94199638129126,175.84941529603324,164.61045045650954,173.00049669291985,178.79815907948603,166.6734460330881,182.4796413702546,168.8249937033237,172.03162482306325,172.1085339742862,158.7655748240605,170.31671651949003,172.33538426740705,174.46620901869787,180.1674610464372,177.36146750465707,173.87095764625354,171.1923760435931,157.4043176169181,172.06898950359604,178.2347975204589,167.83518839506863,175.71293631980433,172.18825726679904,155.30286506349225,165.68129607030303,174.52222121945397,172.03317800374055,171.9318772783847,164.3510643549033,167.38232980591243,176.62447282398406,168.6308932112738,153.43016727061664,155.56921543033084,183.35855249719333,167.2474970510826,168.19613979668463,174.13840220739877,169.17058832773515,177.9108007665302,162.76634674986738,172.56597663937552,162.67251531121323,169.1366998288854,156.83245506581798,172.38850270638756,170.78922154990943,170.30700809048946,182.45296032276906,171.0500913929507,175.20936925971324,154.8188316452267,181.88741331974362,162.25848896013127,173.92498307759507,160.3126263817894,174.91100163121192,167.63248454027047,170.76451585491478,169.62320691917947,178.6768718962947,178.01547446896566,184.28525942853182,157.90048602322517,170.477124102547,155.93405559610235,172.31451122122436,174.54859154954633,170.30317399488342,173.49190786041595,176.86707879622173,166.9098844533347,170.21781631677098,164.2774767587079,162.2714430183572,183.9084503744849,164.45106444264664,180.6536679572127,158.3590292042562,167.8188623571737,170.1971328586734,169.88815867599465,159.5699135287467,179.87695949982293,176.58420739042208,176.1034352665779,170.8024510614322,164.93942199417398,170.85493275981585,168.10422667220521,159.5447016676939,156.7523148536464,168.4594595272661,176.36903332788245,169.70313468820203,174.6699421386152,164.57984483393716,161.2220352152146,168.34684511200294,167.71865169952625,161.27412926954506,170.02082022615912,170.71274792847302,168.15537274415362,161.99777990654184,173.02238111814285,177.56855608502318,172.5437138801442,179.5483477098357,176.36266858173238,171.49190928918097,169.75146013974975,165.12135476330582,161.92454482579296,179.20182168356322,168.6693243513724,180.38422025255437,171.59336539588983,164.90821950489033,169.28359717341075,161.70939750384719,174.26530958240258,181.11854130259437,164.0213192277044,162.54821885610355,167.29300863001717,159.58471784408607,164.06719835145148,178.00027400964368,165.18744343647495,168.79928803246736,162.09053571639765,175.3231636898421,165.09315542393722,175.59960507949415,174.18753899427196,161.27170603138782,175.94117213366292,182.39559713482407,177.91077963194178,177.11538736117384,161.96845671202226,171.8276482286937,162.24561087981718,157.11192787710385,173.63578742521207,184.6419382817782,173.20937618781238,174.2111803543485,157.67671319894714,165.14546166771842,174.80315328268762,166.66469973205858,181.1588993568353,163.11305799949733,162.0967845309966,176.15536817140713,167.00284390439836,176.8944344706865,172.95654352632585,165.43061669298973,173.40722597935454,173.47775795057873,181.5469117661376,170.30795490470098,170.20290479974312,166.99431186884146,180.7361580808793,176.74740295932978,167.02629906482636,169.85679322366946,182.6799179597154,180.06245886819096,166.30684714100275,172.70191796378694,170.84974723599004,180.530937673839,164.4536743556992,166.16870139430324,171.83625055162548,167.05358883821674,174.7351341710519,153.93889498413614,168.91742931895539,175.4897350750916,175.5882188948883,166.12281888683248,176.18155640921026,166.98773778620532,175.7426356723286,167.35584508872597,195.18937759048,172.62054169654652,176.1714057620234,165.2570342521087,165.93737340795525,176.31412030868768,181.17519236326294,164.64233250752628,170.0772643451528,174.7016581383467,164.54215517650053,176.72722680732048,145.7218965986519,159.63549743897707,174.3933010912506,172.98664244349342,171.62667281810545,170.04520555839434,176.24781379874952,168.18807444185842,163.42264639995608,170.7032869416583,172.71743253425404,167.89927365398447,174.67114390314478,179.96841628463778,165.05550553956004,171.19540064956965,164.41345404905408,173.46346929070089,161.32513436661563,158.43890245765473,184.2651358171703,172.58059034298918,166.76070838718272,161.59194276213472,185.03999768564637,185.01622253763355,177.25527950202826,182.54986306557663,167.80610468459918,169.80709555073133,174.73021493074742,158.64369827004586,167.10924186306218,170.8681470814786,174.10681992188472,176.23905341261397,167.26985768646745,169.2929096358211,166.50324681543768,162.9876780710645,168.49308033072037,161.73697524492712,158.12383797074312,174.2665998078745,167.2753499376981,190.26598209267775,174.3090571395821,160.28045870732223,167.10603475302833,172.1589265344845,172.06306139301685,171.3920476408841,168.0842615026176,163.82092159102243,171.67205425738126,182.3210283079565,162.28457070084568,170.7668840951802,168.54499819176104,172.04448968947102,160.86034642529754,155.76140983963674,160.8790018864561,161.96612632257074,176.4205466937037,180.67481396111435,180.09546980153445,160.68497711868253,171.4815997514097,158.71581686796722,157.8618252456132,145.21109730174405,177.41179269243398,153.5370431685218,156.04424070867597,169.70805735023453,165.45057808222361,173.22729326101367,178.23322354970378,166.62905403271915,160.89109997642925,192.34644469984195,179.3067514530471,176.19651608728427,178.5599987438117,155.99893362684168,165.64857124975705,176.52127550131001,168.4462270386238,167.51973415602728,160.53395640777563,151.25303278727574,179.15740058524554,182.5249690645959,168.94585195115744,181.37028522607102,164.97540896762973,167.60517140148596,168.84085013198256,163.8569032236025,175.9023730863597,172.60167232011935,169.67625304316914,174.36852690406909,174.5068995811944,165.14911627891044,165.04763894543962,166.17326065760486,179.6807088133221,156.52952510684813,176.57549928540175,150.3560353313458,168.61400996951915,168.6485123333355,162.32051608303777,172.57065342692826,171.4045911298501,162.2318883434528,168.72808834773076,171.57200007633034,160.12051282257536,151.74679751196732,175.03131648999397,171.82953535214492,153.30011404546246,177.57429923658728,177.26372472803854,167.66253858050604,158.4414626913652,160.97783186991848,178.59354844506683,166.6049519713046,162.91664446363143,177.3374605182114,173.80339808544693,168.83761742186576,164.60485892610657,173.49699564717181,170.2990711977865,172.34818108256704,181.68323847450569,155.48786821002471,179.80623175206247,183.70335155227633,163.1892135859439,166.60338832343473,174.68669881910895,167.03030186534832,154.31325230775096,170.7665605161585,165.967604956506,171.9354541367084,174.05171708797258,166.64881006446927,173.4815074463086,165.26131392687188,178.10069022288752,177.27183780623398,171.78029791740423,180.0970189647861,179.64495438058367,169.24884215972153,177.64177037487795,145.67128682838893,183.0649393017062,166.57097673567935,164.1431659410427,176.52998680006914,170.8460277263912,164.10208958587492,160.265682180992,180.26950318977592,167.70255344644136,159.35512114087265,168.26851473401837,169.93006364845454,174.0213462978735,183.43723870203405,173.7148420506094,176.52914982648872,167.99945915832495,170.77795983191413,187.96588082637015,172.28601484054298,158.4637549274711,183.4279192275414,170.09359924607978,173.5893453913978,163.3878663580395,171.7793863890208,166.7417367031934,171.20275174515285,175.03220956753592,175.00340315088692,177.15234875398482,157.70405486345754,157.80089623266983,147.80621878228905,166.15080956042178,171.138295306235,176.799753958429,190.56270632030785,183.38278301298323,179.2182542127024,167.5145085301504,180.9477231852855,160.6121530891304,165.02453236015288,174.02582920198807,139.17077363515068,158.02394128448765,173.16133540426873,167.1774829299883,161.77720962279648,174.92526093807953,178.6022394092684,180.81687182067034,168.7829640447241,174.82031637800466,172.47066622629958,181.450246175505,172.90707532597523,166.03448461250372,162.516319686275,176.4073018809804,178.35132357215156,178.0545295377757,171.32026086083172,175.09141542834874,171.3236727052581,162.37078101332793,166.353601466981,176.33257815132762,176.688524692852,166.7480034728046,171.10152796547666,171.40642417753944,181.83304423354767,173.2527873593214,166.95757343728147,169.73222361454876,168.79190741404548,163.02949644044426,154.64066802386054,194.73761725029692,169.14728149727887,183.50520375956077,167.9427992858956,176.2112614647095,156.70673816648372,174.38268120754412,179.8744369472825,172.8278827706515,177.51464440212808,172.74845118257545,180.24511385160855,165.89996980586162,191.55165538683642,170.4567180993405,166.99654162723397,173.7227345955286],\"type\":\"box\",\"xaxis\":\"x2\",\"yaxis\":\"y2\"}],                        {\"template\":{\"data\":{\"histogram2dcontour\":[{\"type\":\"histogram2dcontour\",\"colorbar\":{\"outlinewidth\":0,\"ticks\":\"\"},\"colorscale\":[[0.0,\"#0d0887\"],[0.1111111111111111,\"#46039f\"],[0.2222222222222222,\"#7201a8\"],[0.3333333333333333,\"#9c179e\"],[0.4444444444444444,\"#bd3786\"],[0.5555555555555556,\"#d8576b\"],[0.6666666666666666,\"#ed7953\"],[0.7777777777777778,\"#fb9f3a\"],[0.8888888888888888,\"#fdca26\"],[1.0,\"#f0f921\"]]}],\"choropleth\":[{\"type\":\"choropleth\",\"colorbar\":{\"outlinewidth\":0,\"ticks\":\"\"}}],\"histogram2d\":[{\"type\":\"histogram2d\",\"colorbar\":{\"outlinewidth\":0,\"ticks\":\"\"},\"colorscale\":[[0.0,\"#0d0887\"],[0.1111111111111111,\"#46039f\"],[0.2222222222222222,\"#7201a8\"],[0.3333333333333333,\"#9c179e\"],[0.4444444444444444,\"#bd3786\"],[0.5555555555555556,\"#d8576b\"],[0.6666666666666666,\"#ed7953\"],[0.7777777777777778,\"#fb9f3a\"],[0.8888888888888888,\"#fdca26\"],[1.0,\"#f0f921\"]]}],\"heatmap\":[{\"type\":\"heatmap\",\"colorbar\":{\"outlinewidth\":0,\"ticks\":\"\"},\"colorscale\":[[0.0,\"#0d0887\"],[0.1111111111111111,\"#46039f\"],[0.2222222222222222,\"#7201a8\"],[0.3333333333333333,\"#9c179e\"],[0.4444444444444444,\"#bd3786\"],[0.5555555555555556,\"#d8576b\"],[0.6666666666666666,\"#ed7953\"],[0.7777777777777778,\"#fb9f3a\"],[0.8888888888888888,\"#fdca26\"],[1.0,\"#f0f921\"]]}],\"heatmapgl\":[{\"type\":\"heatmapgl\",\"colorbar\":{\"outlinewidth\":0,\"ticks\":\"\"},\"colorscale\":[[0.0,\"#0d0887\"],[0.1111111111111111,\"#46039f\"],[0.2222222222222222,\"#7201a8\"],[0.3333333333333333,\"#9c179e\"],[0.4444444444444444,\"#bd3786\"],[0.5555555555555556,\"#d8576b\"],[0.6666666666666666,\"#ed7953\"],[0.7777777777777778,\"#fb9f3a\"],[0.8888888888888888,\"#fdca26\"],[1.0,\"#f0f921\"]]}],\"contourcarpet\":[{\"type\":\"contourcarpet\",\"colorbar\":{\"outlinewidth\":0,\"ticks\":\"\"}}],\"contour\":[{\"type\":\"contour\",\"colorbar\":{\"outlinewidth\":0,\"ticks\":\"\"},\"colorscale\":[[0.0,\"#0d0887\"],[0.1111111111111111,\"#46039f\"],[0.2222222222222222,\"#7201a8\"],[0.3333333333333333,\"#9c179e\"],[0.4444444444444444,\"#bd3786\"],[0.5555555555555556,\"#d8576b\"],[0.6666666666666666,\"#ed7953\"],[0.7777777777777778,\"#fb9f3a\"],[0.8888888888888888,\"#fdca26\"],[1.0,\"#f0f921\"]]}],\"surface\":[{\"type\":\"surface\",\"colorbar\":{\"outlinewidth\":0,\"ticks\":\"\"},\"colorscale\":[[0.0,\"#0d0887\"],[0.1111111111111111,\"#46039f\"],[0.2222222222222222,\"#7201a8\"],[0.3333333333333333,\"#9c179e\"],[0.4444444444444444,\"#bd3786\"],[0.5555555555555556,\"#d8576b\"],[0.6666666666666666,\"#ed7953\"],[0.7777777777777778,\"#fb9f3a\"],[0.8888888888888888,\"#fdca26\"],[1.0,\"#f0f921\"]]}],\"mesh3d\":[{\"type\":\"mesh3d\",\"colorbar\":{\"outlinewidth\":0,\"ticks\":\"\"}}],\"scatter\":[{\"fillpattern\":{\"fillmode\":\"overlay\",\"size\":10,\"solidity\":0.2},\"type\":\"scatter\"}],\"parcoords\":[{\"type\":\"parcoords\",\"line\":{\"colorbar\":{\"outlinewidth\":0,\"ticks\":\"\"}}}],\"scatterpolargl\":[{\"type\":\"scatterpolargl\",\"marker\":{\"colorbar\":{\"outlinewidth\":0,\"ticks\":\"\"}}}],\"bar\":[{\"error_x\":{\"color\":\"#2a3f5f\"},\"error_y\":{\"color\":\"#2a3f5f\"},\"marker\":{\"line\":{\"color\":\"#E5ECF6\",\"width\":0.5},\"pattern\":{\"fillmode\":\"overlay\",\"size\":10,\"solidity\":0.2}},\"type\":\"bar\"}],\"scattergeo\":[{\"type\":\"scattergeo\",\"marker\":{\"colorbar\":{\"outlinewidth\":0,\"ticks\":\"\"}}}],\"scatterpolar\":[{\"type\":\"scatterpolar\",\"marker\":{\"colorbar\":{\"outlinewidth\":0,\"ticks\":\"\"}}}],\"histogram\":[{\"marker\":{\"pattern\":{\"fillmode\":\"overlay\",\"size\":10,\"solidity\":0.2}},\"type\":\"histogram\"}],\"scattergl\":[{\"type\":\"scattergl\",\"marker\":{\"colorbar\":{\"outlinewidth\":0,\"ticks\":\"\"}}}],\"scatter3d\":[{\"type\":\"scatter3d\",\"line\":{\"colorbar\":{\"outlinewidth\":0,\"ticks\":\"\"}},\"marker\":{\"colorbar\":{\"outlinewidth\":0,\"ticks\":\"\"}}}],\"scattermapbox\":[{\"type\":\"scattermapbox\",\"marker\":{\"colorbar\":{\"outlinewidth\":0,\"ticks\":\"\"}}}],\"scatterternary\":[{\"type\":\"scatterternary\",\"marker\":{\"colorbar\":{\"outlinewidth\":0,\"ticks\":\"\"}}}],\"scattercarpet\":[{\"type\":\"scattercarpet\",\"marker\":{\"colorbar\":{\"outlinewidth\":0,\"ticks\":\"\"}}}],\"carpet\":[{\"aaxis\":{\"endlinecolor\":\"#2a3f5f\",\"gridcolor\":\"white\",\"linecolor\":\"white\",\"minorgridcolor\":\"white\",\"startlinecolor\":\"#2a3f5f\"},\"baxis\":{\"endlinecolor\":\"#2a3f5f\",\"gridcolor\":\"white\",\"linecolor\":\"white\",\"minorgridcolor\":\"white\",\"startlinecolor\":\"#2a3f5f\"},\"type\":\"carpet\"}],\"table\":[{\"cells\":{\"fill\":{\"color\":\"#EBF0F8\"},\"line\":{\"color\":\"white\"}},\"header\":{\"fill\":{\"color\":\"#C8D4E3\"},\"line\":{\"color\":\"white\"}},\"type\":\"table\"}],\"barpolar\":[{\"marker\":{\"line\":{\"color\":\"#E5ECF6\",\"width\":0.5},\"pattern\":{\"fillmode\":\"overlay\",\"size\":10,\"solidity\":0.2}},\"type\":\"barpolar\"}],\"pie\":[{\"automargin\":true,\"type\":\"pie\"}]},\"layout\":{\"autotypenumbers\":\"strict\",\"colorway\":[\"#636efa\",\"#EF553B\",\"#00cc96\",\"#ab63fa\",\"#FFA15A\",\"#19d3f3\",\"#FF6692\",\"#B6E880\",\"#FF97FF\",\"#FECB52\"],\"font\":{\"color\":\"#2a3f5f\"},\"hovermode\":\"closest\",\"hoverlabel\":{\"align\":\"left\"},\"paper_bgcolor\":\"white\",\"plot_bgcolor\":\"#E5ECF6\",\"polar\":{\"bgcolor\":\"#E5ECF6\",\"angularaxis\":{\"gridcolor\":\"white\",\"linecolor\":\"white\",\"ticks\":\"\"},\"radialaxis\":{\"gridcolor\":\"white\",\"linecolor\":\"white\",\"ticks\":\"\"}},\"ternary\":{\"bgcolor\":\"#E5ECF6\",\"aaxis\":{\"gridcolor\":\"white\",\"linecolor\":\"white\",\"ticks\":\"\"},\"baxis\":{\"gridcolor\":\"white\",\"linecolor\":\"white\",\"ticks\":\"\"},\"caxis\":{\"gridcolor\":\"white\",\"linecolor\":\"white\",\"ticks\":\"\"}},\"coloraxis\":{\"colorbar\":{\"outlinewidth\":0,\"ticks\":\"\"}},\"colorscale\":{\"sequential\":[[0.0,\"#0d0887\"],[0.1111111111111111,\"#46039f\"],[0.2222222222222222,\"#7201a8\"],[0.3333333333333333,\"#9c179e\"],[0.4444444444444444,\"#bd3786\"],[0.5555555555555556,\"#d8576b\"],[0.6666666666666666,\"#ed7953\"],[0.7777777777777778,\"#fb9f3a\"],[0.8888888888888888,\"#fdca26\"],[1.0,\"#f0f921\"]],\"sequentialminus\":[[0.0,\"#0d0887\"],[0.1111111111111111,\"#46039f\"],[0.2222222222222222,\"#7201a8\"],[0.3333333333333333,\"#9c179e\"],[0.4444444444444444,\"#bd3786\"],[0.5555555555555556,\"#d8576b\"],[0.6666666666666666,\"#ed7953\"],[0.7777777777777778,\"#fb9f3a\"],[0.8888888888888888,\"#fdca26\"],[1.0,\"#f0f921\"]],\"diverging\":[[0,\"#8e0152\"],[0.1,\"#c51b7d\"],[0.2,\"#de77ae\"],[0.3,\"#f1b6da\"],[0.4,\"#fde0ef\"],[0.5,\"#f7f7f7\"],[0.6,\"#e6f5d0\"],[0.7,\"#b8e186\"],[0.8,\"#7fbc41\"],[0.9,\"#4d9221\"],[1,\"#276419\"]]},\"xaxis\":{\"gridcolor\":\"white\",\"linecolor\":\"white\",\"ticks\":\"\",\"title\":{\"standoff\":15},\"zerolinecolor\":\"white\",\"automargin\":true,\"zerolinewidth\":2},\"yaxis\":{\"gridcolor\":\"white\",\"linecolor\":\"white\",\"ticks\":\"\",\"title\":{\"standoff\":15},\"zerolinecolor\":\"white\",\"automargin\":true,\"zerolinewidth\":2},\"scene\":{\"xaxis\":{\"backgroundcolor\":\"#E5ECF6\",\"gridcolor\":\"white\",\"linecolor\":\"white\",\"showbackground\":true,\"ticks\":\"\",\"zerolinecolor\":\"white\",\"gridwidth\":2},\"yaxis\":{\"backgroundcolor\":\"#E5ECF6\",\"gridcolor\":\"white\",\"linecolor\":\"white\",\"showbackground\":true,\"ticks\":\"\",\"zerolinecolor\":\"white\",\"gridwidth\":2},\"zaxis\":{\"backgroundcolor\":\"#E5ECF6\",\"gridcolor\":\"white\",\"linecolor\":\"white\",\"showbackground\":true,\"ticks\":\"\",\"zerolinecolor\":\"white\",\"gridwidth\":2}},\"shapedefaults\":{\"line\":{\"color\":\"#2a3f5f\"}},\"annotationdefaults\":{\"arrowcolor\":\"#2a3f5f\",\"arrowhead\":0,\"arrowwidth\":1},\"geo\":{\"bgcolor\":\"white\",\"landcolor\":\"#E5ECF6\",\"subunitcolor\":\"white\",\"showland\":true,\"showlakes\":true,\"lakecolor\":\"white\"},\"title\":{\"x\":0.05},\"mapbox\":{\"style\":\"light\"}}},\"xaxis\":{\"anchor\":\"y\",\"domain\":[0.0,0.45],\"title\":{\"text\":\"Height (cm)\"}},\"yaxis\":{\"anchor\":\"x\",\"domain\":[0.0,1.0],\"title\":{\"text\":\"Probability Density\"}},\"xaxis2\":{\"anchor\":\"y2\",\"domain\":[0.55,1.0],\"title\":{\"text\":\"Height (cm)\"}},\"yaxis2\":{\"anchor\":\"x2\",\"domain\":[0.0,1.0],\"title\":{\"text\":\"\"}},\"annotations\":[{\"font\":{\"size\":16},\"showarrow\":false,\"text\":\"Histogram\",\"x\":0.225,\"xanchor\":\"center\",\"xref\":\"paper\",\"y\":1.0,\"yanchor\":\"bottom\",\"yref\":\"paper\"},{\"font\":{\"size\":16},\"showarrow\":false,\"text\":\"Box Plot\",\"x\":0.775,\"xanchor\":\"center\",\"xref\":\"paper\",\"y\":1.0,\"yanchor\":\"bottom\",\"yref\":\"paper\"}],\"title\":{\"text\":\"Random Sample of Heights from Gaussian-like Distribution\"},\"showlegend\":false,\"width\":1200,\"height\":600},                        {\"responsive\": true}                    ).then(function(){\n",
       "                            \n",
       "var gd = document.getElementById('201e0e1f-5dd5-44c3-a68f-d566ec5d49a3');\n",
       "var x = new MutationObserver(function (mutations, observer) {{\n",
       "        var display = window.getComputedStyle(gd).display;\n",
       "        if (!display || display === 'none') {{\n",
       "            console.log([gd, 'removed!']);\n",
       "            Plotly.purge(gd);\n",
       "            observer.disconnect();\n",
       "        }}\n",
       "}});\n",
       "\n",
       "// Listen for the removal of the full notebook cells\n",
       "var notebookContainer = gd.closest('#notebook-container');\n",
       "if (notebookContainer) {{\n",
       "    x.observe(notebookContainer, {childList: true});\n",
       "}}\n",
       "\n",
       "// Listen for the clearing of the current output cell\n",
       "var outputEl = gd.closest('.output');\n",
       "if (outputEl) {{\n",
       "    x.observe(outputEl, {childList: true});\n",
       "}}\n",
       "\n",
       "                        })                };                });            </script>        </div>"
      ]
     },
     "metadata": {},
     "output_type": "display_data"
    }
   ],
   "source": [
    "# Create two separate figures side by side using plotly subplots\n",
    "fig = sp.make_subplots(rows=1, cols=2, subplot_titles=['Histogram', 'Box Plot'])\n",
    "\n",
    "# Add histogram trace to the first subplot with customized edge color\n",
    "fig.add_trace(go.Histogram(x=height_samples, nbinsx=30, marker_color='green', opacity=0.6,\n",
    "                           marker_line_color='black', marker_line_width=1),\n",
    "              row=1, col=1)\n",
    "fig.update_xaxes(title_text='Height (cm)', row=1, col=1)\n",
    "fig.update_yaxes(title_text='Probability Density', row=1, col=1)\n",
    "\n",
    "\n",
    "# Add box plot trace to the second subplot\n",
    "fig.add_trace(go.Box(y=height_samples, boxpoints=None, jitter=0, pointpos=0),\n",
    "              row=1, col=2)\n",
    "fig.update_xaxes(title_text='Height (cm)', row=1, col=2)\n",
    "fig.update_yaxes(title_text='', row=1, col=2)\n",
    "\n",
    "# Update layout for both subplots\n",
    "fig.update_layout(title_text='Random Sample of Heights from Gaussian-like Distribution',\n",
    "                  showlegend=False,\n",
    "                  width=1200,  # Set width of the figure\n",
    "                  height=600   # Set height of the figure\n",
    "                 )\n",
    "\n",
    "\n",
    "fig.show()"
   ]
  },
  {
   "cell_type": "code",
   "execution_count": null,
   "metadata": {},
   "outputs": [],
   "source": []
  },
  {
   "cell_type": "code",
   "execution_count": 107,
   "metadata": {},
   "outputs": [],
   "source": [
    "import numpy as np\n",
    "import pandas as pd\n",
    "from scipy import stats\n",
    "\n",
    "# Parameters\n",
    "mean_height = 170\n",
    "std_dev = 40\n",
    "sample_size = 50\n",
    "n = 50  # Number of runs\n",
    "\n",
    "# Initialize an empty list to store statistics\n",
    "summary_stats_list = []\n",
    "\n",
    "# Generate n samples and calculate statistics\n",
    "for i in range(n):\n",
    "    height_samples = np.random.normal(mean_height, std_dev, sample_size)\n",
    "    result = stats.describe(height_samples)\n",
    "    summary_stats = {\n",
    "        'count': result.nobs,\n",
    "        'mean': result.mean,\n",
    "        'std': np.sqrt(result.variance),\n",
    "        'var': result.variance,\n",
    "        'min': result.minmax[0],\n",
    "        'max': result.minmax[1],\n",
    "        'ske': result.skewness,\n",
    "        'kurt': result.kurtosis,\n",
    "        '25%': np.percentile(height_samples, 25),\n",
    "        '50%': np.median(height_samples),\n",
    "        '75%': np.percentile(height_samples, 75)\n",
    "    }\n",
    "    summary_stats_list.append(summary_stats)\n",
    "\n",
    "# Create DataFrame from the list of statistics\n",
    "df_summary_stats = pd.DataFrame(summary_stats_list)"
   ]
  },
  {
   "cell_type": "code",
   "execution_count": 108,
   "metadata": {},
   "outputs": [],
   "source": [
    "#df_summary_stats"
   ]
  },
  {
   "cell_type": "code",
   "execution_count": 109,
   "metadata": {},
   "outputs": [
    {
     "data": {
      "application/vnd.plotly.v1+json": {
       "config": {
        "plotlyServerURL": "https://plot.ly"
       },
       "data": [
        {
         "marker": {
          "color": "green",
          "line": {
           "color": "black",
           "width": 1
          }
         },
         "nbinsx": 20,
         "opacity": 0.6,
         "type": "histogram",
         "x": [
          177.85482250371035,
          174.1966302807594,
          172.7624790457972,
          168.93663889012262,
          175.15014379361884,
          162.02701153773825,
          158.31716456362773,
          169.71298990663988,
          168.88932936999953,
          180.14279442691893,
          165.1501805064945,
          175.74413496131308,
          168.46608457339863,
          162.76288133739254,
          173.42803928241432,
          177.55782892065713,
          171.65444736357495,
          180.9066986953225,
          177.90976587299335,
          171.86413240601823,
          162.21398781810768,
          177.74121737717437,
          163.13995734463495,
          169.94418142472168,
          174.6336352591938,
          168.3511966960493,
          164.01274213145348,
          164.96370320605575,
          160.99431485972048,
          170.9126455169554,
          166.09716143153528,
          174.57820994689936,
          182.24423592523638,
          171.78802270498593,
          167.4302554341031,
          167.9121881149033,
          168.99788780853132,
          176.30157165135606,
          168.67603494951535,
          171.25150443382944,
          168.91820513645885,
          178.81654309922772,
          172.88346434600783,
          172.9990011358902,
          171.15204061494478,
          181.90274392763163,
          167.89489368163092,
          177.8921815989398,
          172.84094956179268,
          158.77766586188997
         ]
        }
       ],
       "layout": {
        "autosize": true,
        "template": {
         "data": {
          "bar": [
           {
            "error_x": {
             "color": "#2a3f5f"
            },
            "error_y": {
             "color": "#2a3f5f"
            },
            "marker": {
             "line": {
              "color": "#E5ECF6",
              "width": 0.5
             },
             "pattern": {
              "fillmode": "overlay",
              "size": 10,
              "solidity": 0.2
             }
            },
            "type": "bar"
           }
          ],
          "barpolar": [
           {
            "marker": {
             "line": {
              "color": "#E5ECF6",
              "width": 0.5
             },
             "pattern": {
              "fillmode": "overlay",
              "size": 10,
              "solidity": 0.2
             }
            },
            "type": "barpolar"
           }
          ],
          "carpet": [
           {
            "aaxis": {
             "endlinecolor": "#2a3f5f",
             "gridcolor": "white",
             "linecolor": "white",
             "minorgridcolor": "white",
             "startlinecolor": "#2a3f5f"
            },
            "baxis": {
             "endlinecolor": "#2a3f5f",
             "gridcolor": "white",
             "linecolor": "white",
             "minorgridcolor": "white",
             "startlinecolor": "#2a3f5f"
            },
            "type": "carpet"
           }
          ],
          "choropleth": [
           {
            "colorbar": {
             "outlinewidth": 0,
             "ticks": ""
            },
            "type": "choropleth"
           }
          ],
          "contour": [
           {
            "colorbar": {
             "outlinewidth": 0,
             "ticks": ""
            },
            "colorscale": [
             [
              0,
              "#0d0887"
             ],
             [
              0.1111111111111111,
              "#46039f"
             ],
             [
              0.2222222222222222,
              "#7201a8"
             ],
             [
              0.3333333333333333,
              "#9c179e"
             ],
             [
              0.4444444444444444,
              "#bd3786"
             ],
             [
              0.5555555555555556,
              "#d8576b"
             ],
             [
              0.6666666666666666,
              "#ed7953"
             ],
             [
              0.7777777777777778,
              "#fb9f3a"
             ],
             [
              0.8888888888888888,
              "#fdca26"
             ],
             [
              1,
              "#f0f921"
             ]
            ],
            "type": "contour"
           }
          ],
          "contourcarpet": [
           {
            "colorbar": {
             "outlinewidth": 0,
             "ticks": ""
            },
            "type": "contourcarpet"
           }
          ],
          "heatmap": [
           {
            "colorbar": {
             "outlinewidth": 0,
             "ticks": ""
            },
            "colorscale": [
             [
              0,
              "#0d0887"
             ],
             [
              0.1111111111111111,
              "#46039f"
             ],
             [
              0.2222222222222222,
              "#7201a8"
             ],
             [
              0.3333333333333333,
              "#9c179e"
             ],
             [
              0.4444444444444444,
              "#bd3786"
             ],
             [
              0.5555555555555556,
              "#d8576b"
             ],
             [
              0.6666666666666666,
              "#ed7953"
             ],
             [
              0.7777777777777778,
              "#fb9f3a"
             ],
             [
              0.8888888888888888,
              "#fdca26"
             ],
             [
              1,
              "#f0f921"
             ]
            ],
            "type": "heatmap"
           }
          ],
          "heatmapgl": [
           {
            "colorbar": {
             "outlinewidth": 0,
             "ticks": ""
            },
            "colorscale": [
             [
              0,
              "#0d0887"
             ],
             [
              0.1111111111111111,
              "#46039f"
             ],
             [
              0.2222222222222222,
              "#7201a8"
             ],
             [
              0.3333333333333333,
              "#9c179e"
             ],
             [
              0.4444444444444444,
              "#bd3786"
             ],
             [
              0.5555555555555556,
              "#d8576b"
             ],
             [
              0.6666666666666666,
              "#ed7953"
             ],
             [
              0.7777777777777778,
              "#fb9f3a"
             ],
             [
              0.8888888888888888,
              "#fdca26"
             ],
             [
              1,
              "#f0f921"
             ]
            ],
            "type": "heatmapgl"
           }
          ],
          "histogram": [
           {
            "marker": {
             "pattern": {
              "fillmode": "overlay",
              "size": 10,
              "solidity": 0.2
             }
            },
            "type": "histogram"
           }
          ],
          "histogram2d": [
           {
            "colorbar": {
             "outlinewidth": 0,
             "ticks": ""
            },
            "colorscale": [
             [
              0,
              "#0d0887"
             ],
             [
              0.1111111111111111,
              "#46039f"
             ],
             [
              0.2222222222222222,
              "#7201a8"
             ],
             [
              0.3333333333333333,
              "#9c179e"
             ],
             [
              0.4444444444444444,
              "#bd3786"
             ],
             [
              0.5555555555555556,
              "#d8576b"
             ],
             [
              0.6666666666666666,
              "#ed7953"
             ],
             [
              0.7777777777777778,
              "#fb9f3a"
             ],
             [
              0.8888888888888888,
              "#fdca26"
             ],
             [
              1,
              "#f0f921"
             ]
            ],
            "type": "histogram2d"
           }
          ],
          "histogram2dcontour": [
           {
            "colorbar": {
             "outlinewidth": 0,
             "ticks": ""
            },
            "colorscale": [
             [
              0,
              "#0d0887"
             ],
             [
              0.1111111111111111,
              "#46039f"
             ],
             [
              0.2222222222222222,
              "#7201a8"
             ],
             [
              0.3333333333333333,
              "#9c179e"
             ],
             [
              0.4444444444444444,
              "#bd3786"
             ],
             [
              0.5555555555555556,
              "#d8576b"
             ],
             [
              0.6666666666666666,
              "#ed7953"
             ],
             [
              0.7777777777777778,
              "#fb9f3a"
             ],
             [
              0.8888888888888888,
              "#fdca26"
             ],
             [
              1,
              "#f0f921"
             ]
            ],
            "type": "histogram2dcontour"
           }
          ],
          "mesh3d": [
           {
            "colorbar": {
             "outlinewidth": 0,
             "ticks": ""
            },
            "type": "mesh3d"
           }
          ],
          "parcoords": [
           {
            "line": {
             "colorbar": {
              "outlinewidth": 0,
              "ticks": ""
             }
            },
            "type": "parcoords"
           }
          ],
          "pie": [
           {
            "automargin": true,
            "type": "pie"
           }
          ],
          "scatter": [
           {
            "fillpattern": {
             "fillmode": "overlay",
             "size": 10,
             "solidity": 0.2
            },
            "type": "scatter"
           }
          ],
          "scatter3d": [
           {
            "line": {
             "colorbar": {
              "outlinewidth": 0,
              "ticks": ""
             }
            },
            "marker": {
             "colorbar": {
              "outlinewidth": 0,
              "ticks": ""
             }
            },
            "type": "scatter3d"
           }
          ],
          "scattercarpet": [
           {
            "marker": {
             "colorbar": {
              "outlinewidth": 0,
              "ticks": ""
             }
            },
            "type": "scattercarpet"
           }
          ],
          "scattergeo": [
           {
            "marker": {
             "colorbar": {
              "outlinewidth": 0,
              "ticks": ""
             }
            },
            "type": "scattergeo"
           }
          ],
          "scattergl": [
           {
            "marker": {
             "colorbar": {
              "outlinewidth": 0,
              "ticks": ""
             }
            },
            "type": "scattergl"
           }
          ],
          "scattermapbox": [
           {
            "marker": {
             "colorbar": {
              "outlinewidth": 0,
              "ticks": ""
             }
            },
            "type": "scattermapbox"
           }
          ],
          "scatterpolar": [
           {
            "marker": {
             "colorbar": {
              "outlinewidth": 0,
              "ticks": ""
             }
            },
            "type": "scatterpolar"
           }
          ],
          "scatterpolargl": [
           {
            "marker": {
             "colorbar": {
              "outlinewidth": 0,
              "ticks": ""
             }
            },
            "type": "scatterpolargl"
           }
          ],
          "scatterternary": [
           {
            "marker": {
             "colorbar": {
              "outlinewidth": 0,
              "ticks": ""
             }
            },
            "type": "scatterternary"
           }
          ],
          "surface": [
           {
            "colorbar": {
             "outlinewidth": 0,
             "ticks": ""
            },
            "colorscale": [
             [
              0,
              "#0d0887"
             ],
             [
              0.1111111111111111,
              "#46039f"
             ],
             [
              0.2222222222222222,
              "#7201a8"
             ],
             [
              0.3333333333333333,
              "#9c179e"
             ],
             [
              0.4444444444444444,
              "#bd3786"
             ],
             [
              0.5555555555555556,
              "#d8576b"
             ],
             [
              0.6666666666666666,
              "#ed7953"
             ],
             [
              0.7777777777777778,
              "#fb9f3a"
             ],
             [
              0.8888888888888888,
              "#fdca26"
             ],
             [
              1,
              "#f0f921"
             ]
            ],
            "type": "surface"
           }
          ],
          "table": [
           {
            "cells": {
             "fill": {
              "color": "#EBF0F8"
             },
             "line": {
              "color": "white"
             }
            },
            "header": {
             "fill": {
              "color": "#C8D4E3"
             },
             "line": {
              "color": "white"
             }
            },
            "type": "table"
           }
          ]
         },
         "layout": {
          "annotationdefaults": {
           "arrowcolor": "#2a3f5f",
           "arrowhead": 0,
           "arrowwidth": 1
          },
          "autotypenumbers": "strict",
          "coloraxis": {
           "colorbar": {
            "outlinewidth": 0,
            "ticks": ""
           }
          },
          "colorscale": {
           "diverging": [
            [
             0,
             "#8e0152"
            ],
            [
             0.1,
             "#c51b7d"
            ],
            [
             0.2,
             "#de77ae"
            ],
            [
             0.3,
             "#f1b6da"
            ],
            [
             0.4,
             "#fde0ef"
            ],
            [
             0.5,
             "#f7f7f7"
            ],
            [
             0.6,
             "#e6f5d0"
            ],
            [
             0.7,
             "#b8e186"
            ],
            [
             0.8,
             "#7fbc41"
            ],
            [
             0.9,
             "#4d9221"
            ],
            [
             1,
             "#276419"
            ]
           ],
           "sequential": [
            [
             0,
             "#0d0887"
            ],
            [
             0.1111111111111111,
             "#46039f"
            ],
            [
             0.2222222222222222,
             "#7201a8"
            ],
            [
             0.3333333333333333,
             "#9c179e"
            ],
            [
             0.4444444444444444,
             "#bd3786"
            ],
            [
             0.5555555555555556,
             "#d8576b"
            ],
            [
             0.6666666666666666,
             "#ed7953"
            ],
            [
             0.7777777777777778,
             "#fb9f3a"
            ],
            [
             0.8888888888888888,
             "#fdca26"
            ],
            [
             1,
             "#f0f921"
            ]
           ],
           "sequentialminus": [
            [
             0,
             "#0d0887"
            ],
            [
             0.1111111111111111,
             "#46039f"
            ],
            [
             0.2222222222222222,
             "#7201a8"
            ],
            [
             0.3333333333333333,
             "#9c179e"
            ],
            [
             0.4444444444444444,
             "#bd3786"
            ],
            [
             0.5555555555555556,
             "#d8576b"
            ],
            [
             0.6666666666666666,
             "#ed7953"
            ],
            [
             0.7777777777777778,
             "#fb9f3a"
            ],
            [
             0.8888888888888888,
             "#fdca26"
            ],
            [
             1,
             "#f0f921"
            ]
           ]
          },
          "colorway": [
           "#636efa",
           "#EF553B",
           "#00cc96",
           "#ab63fa",
           "#FFA15A",
           "#19d3f3",
           "#FF6692",
           "#B6E880",
           "#FF97FF",
           "#FECB52"
          ],
          "font": {
           "color": "#2a3f5f"
          },
          "geo": {
           "bgcolor": "white",
           "lakecolor": "white",
           "landcolor": "#E5ECF6",
           "showlakes": true,
           "showland": true,
           "subunitcolor": "white"
          },
          "hoverlabel": {
           "align": "left"
          },
          "hovermode": "closest",
          "mapbox": {
           "style": "light"
          },
          "paper_bgcolor": "white",
          "plot_bgcolor": "#E5ECF6",
          "polar": {
           "angularaxis": {
            "gridcolor": "white",
            "linecolor": "white",
            "ticks": ""
           },
           "bgcolor": "#E5ECF6",
           "radialaxis": {
            "gridcolor": "white",
            "linecolor": "white",
            "ticks": ""
           }
          },
          "scene": {
           "xaxis": {
            "backgroundcolor": "#E5ECF6",
            "gridcolor": "white",
            "gridwidth": 2,
            "linecolor": "white",
            "showbackground": true,
            "ticks": "",
            "zerolinecolor": "white"
           },
           "yaxis": {
            "backgroundcolor": "#E5ECF6",
            "gridcolor": "white",
            "gridwidth": 2,
            "linecolor": "white",
            "showbackground": true,
            "ticks": "",
            "zerolinecolor": "white"
           },
           "zaxis": {
            "backgroundcolor": "#E5ECF6",
            "gridcolor": "white",
            "gridwidth": 2,
            "linecolor": "white",
            "showbackground": true,
            "ticks": "",
            "zerolinecolor": "white"
           }
          },
          "shapedefaults": {
           "line": {
            "color": "#2a3f5f"
           }
          },
          "ternary": {
           "aaxis": {
            "gridcolor": "white",
            "linecolor": "white",
            "ticks": ""
           },
           "baxis": {
            "gridcolor": "white",
            "linecolor": "white",
            "ticks": ""
           },
           "bgcolor": "#E5ECF6",
           "caxis": {
            "gridcolor": "white",
            "linecolor": "white",
            "ticks": ""
           }
          },
          "title": {
           "x": 0.05
          },
          "xaxis": {
           "automargin": true,
           "gridcolor": "white",
           "linecolor": "white",
           "ticks": "",
           "title": {
            "standoff": 15
           },
           "zerolinecolor": "white",
           "zerolinewidth": 2
          },
          "yaxis": {
           "automargin": true,
           "gridcolor": "white",
           "linecolor": "white",
           "ticks": "",
           "title": {
            "standoff": 15
           },
           "zerolinecolor": "white",
           "zerolinewidth": 2
          }
         }
        },
        "title": {
         "text": "Distribution of Mean Heights"
        },
        "xaxis": {
         "range": [
          50,
          290
         ],
         "title": {
          "text": "Mean Height (cm)"
         },
         "type": "linear"
        },
        "yaxis": {
         "autorange": true,
         "range": [
          0,
          9.473684210526315
         ],
         "title": {
          "text": "Frequency"
         }
        }
       }
      },
      "text/html": [
       "<div>                            <div id=\"791ff01b-a389-4734-83d1-f6a52c4547d4\" class=\"plotly-graph-div\" style=\"height:525px; width:100%;\"></div>            <script type=\"text/javascript\">                require([\"plotly\"], function(Plotly) {                    window.PLOTLYENV=window.PLOTLYENV || {};                                    if (document.getElementById(\"791ff01b-a389-4734-83d1-f6a52c4547d4\")) {                    Plotly.newPlot(                        \"791ff01b-a389-4734-83d1-f6a52c4547d4\",                        [{\"marker\":{\"color\":\"green\",\"line\":{\"color\":\"black\",\"width\":1}},\"nbinsx\":20,\"opacity\":0.6,\"x\":[177.85482250371035,174.1966302807594,172.7624790457972,168.93663889012262,175.15014379361884,162.02701153773825,158.31716456362773,169.71298990663988,168.88932936999953,180.14279442691893,165.1501805064945,175.74413496131308,168.46608457339863,162.76288133739254,173.42803928241432,177.55782892065713,171.65444736357495,180.9066986953225,177.90976587299335,171.86413240601823,162.21398781810768,177.74121737717437,163.13995734463495,169.94418142472168,174.6336352591938,168.3511966960493,164.01274213145348,164.96370320605575,160.99431485972048,170.9126455169554,166.09716143153528,174.57820994689936,182.24423592523638,171.78802270498593,167.4302554341031,167.9121881149033,168.99788780853132,176.30157165135606,168.67603494951535,171.25150443382944,168.91820513645885,178.81654309922772,172.88346434600783,172.9990011358902,171.15204061494478,181.90274392763163,167.89489368163092,177.8921815989398,172.84094956179268,158.77766586188997],\"type\":\"histogram\"}],                        {\"template\":{\"data\":{\"histogram2dcontour\":[{\"type\":\"histogram2dcontour\",\"colorbar\":{\"outlinewidth\":0,\"ticks\":\"\"},\"colorscale\":[[0.0,\"#0d0887\"],[0.1111111111111111,\"#46039f\"],[0.2222222222222222,\"#7201a8\"],[0.3333333333333333,\"#9c179e\"],[0.4444444444444444,\"#bd3786\"],[0.5555555555555556,\"#d8576b\"],[0.6666666666666666,\"#ed7953\"],[0.7777777777777778,\"#fb9f3a\"],[0.8888888888888888,\"#fdca26\"],[1.0,\"#f0f921\"]]}],\"choropleth\":[{\"type\":\"choropleth\",\"colorbar\":{\"outlinewidth\":0,\"ticks\":\"\"}}],\"histogram2d\":[{\"type\":\"histogram2d\",\"colorbar\":{\"outlinewidth\":0,\"ticks\":\"\"},\"colorscale\":[[0.0,\"#0d0887\"],[0.1111111111111111,\"#46039f\"],[0.2222222222222222,\"#7201a8\"],[0.3333333333333333,\"#9c179e\"],[0.4444444444444444,\"#bd3786\"],[0.5555555555555556,\"#d8576b\"],[0.6666666666666666,\"#ed7953\"],[0.7777777777777778,\"#fb9f3a\"],[0.8888888888888888,\"#fdca26\"],[1.0,\"#f0f921\"]]}],\"heatmap\":[{\"type\":\"heatmap\",\"colorbar\":{\"outlinewidth\":0,\"ticks\":\"\"},\"colorscale\":[[0.0,\"#0d0887\"],[0.1111111111111111,\"#46039f\"],[0.2222222222222222,\"#7201a8\"],[0.3333333333333333,\"#9c179e\"],[0.4444444444444444,\"#bd3786\"],[0.5555555555555556,\"#d8576b\"],[0.6666666666666666,\"#ed7953\"],[0.7777777777777778,\"#fb9f3a\"],[0.8888888888888888,\"#fdca26\"],[1.0,\"#f0f921\"]]}],\"heatmapgl\":[{\"type\":\"heatmapgl\",\"colorbar\":{\"outlinewidth\":0,\"ticks\":\"\"},\"colorscale\":[[0.0,\"#0d0887\"],[0.1111111111111111,\"#46039f\"],[0.2222222222222222,\"#7201a8\"],[0.3333333333333333,\"#9c179e\"],[0.4444444444444444,\"#bd3786\"],[0.5555555555555556,\"#d8576b\"],[0.6666666666666666,\"#ed7953\"],[0.7777777777777778,\"#fb9f3a\"],[0.8888888888888888,\"#fdca26\"],[1.0,\"#f0f921\"]]}],\"contourcarpet\":[{\"type\":\"contourcarpet\",\"colorbar\":{\"outlinewidth\":0,\"ticks\":\"\"}}],\"contour\":[{\"type\":\"contour\",\"colorbar\":{\"outlinewidth\":0,\"ticks\":\"\"},\"colorscale\":[[0.0,\"#0d0887\"],[0.1111111111111111,\"#46039f\"],[0.2222222222222222,\"#7201a8\"],[0.3333333333333333,\"#9c179e\"],[0.4444444444444444,\"#bd3786\"],[0.5555555555555556,\"#d8576b\"],[0.6666666666666666,\"#ed7953\"],[0.7777777777777778,\"#fb9f3a\"],[0.8888888888888888,\"#fdca26\"],[1.0,\"#f0f921\"]]}],\"surface\":[{\"type\":\"surface\",\"colorbar\":{\"outlinewidth\":0,\"ticks\":\"\"},\"colorscale\":[[0.0,\"#0d0887\"],[0.1111111111111111,\"#46039f\"],[0.2222222222222222,\"#7201a8\"],[0.3333333333333333,\"#9c179e\"],[0.4444444444444444,\"#bd3786\"],[0.5555555555555556,\"#d8576b\"],[0.6666666666666666,\"#ed7953\"],[0.7777777777777778,\"#fb9f3a\"],[0.8888888888888888,\"#fdca26\"],[1.0,\"#f0f921\"]]}],\"mesh3d\":[{\"type\":\"mesh3d\",\"colorbar\":{\"outlinewidth\":0,\"ticks\":\"\"}}],\"scatter\":[{\"fillpattern\":{\"fillmode\":\"overlay\",\"size\":10,\"solidity\":0.2},\"type\":\"scatter\"}],\"parcoords\":[{\"type\":\"parcoords\",\"line\":{\"colorbar\":{\"outlinewidth\":0,\"ticks\":\"\"}}}],\"scatterpolargl\":[{\"type\":\"scatterpolargl\",\"marker\":{\"colorbar\":{\"outlinewidth\":0,\"ticks\":\"\"}}}],\"bar\":[{\"error_x\":{\"color\":\"#2a3f5f\"},\"error_y\":{\"color\":\"#2a3f5f\"},\"marker\":{\"line\":{\"color\":\"#E5ECF6\",\"width\":0.5},\"pattern\":{\"fillmode\":\"overlay\",\"size\":10,\"solidity\":0.2}},\"type\":\"bar\"}],\"scattergeo\":[{\"type\":\"scattergeo\",\"marker\":{\"colorbar\":{\"outlinewidth\":0,\"ticks\":\"\"}}}],\"scatterpolar\":[{\"type\":\"scatterpolar\",\"marker\":{\"colorbar\":{\"outlinewidth\":0,\"ticks\":\"\"}}}],\"histogram\":[{\"marker\":{\"pattern\":{\"fillmode\":\"overlay\",\"size\":10,\"solidity\":0.2}},\"type\":\"histogram\"}],\"scattergl\":[{\"type\":\"scattergl\",\"marker\":{\"colorbar\":{\"outlinewidth\":0,\"ticks\":\"\"}}}],\"scatter3d\":[{\"type\":\"scatter3d\",\"line\":{\"colorbar\":{\"outlinewidth\":0,\"ticks\":\"\"}},\"marker\":{\"colorbar\":{\"outlinewidth\":0,\"ticks\":\"\"}}}],\"scattermapbox\":[{\"type\":\"scattermapbox\",\"marker\":{\"colorbar\":{\"outlinewidth\":0,\"ticks\":\"\"}}}],\"scatterternary\":[{\"type\":\"scatterternary\",\"marker\":{\"colorbar\":{\"outlinewidth\":0,\"ticks\":\"\"}}}],\"scattercarpet\":[{\"type\":\"scattercarpet\",\"marker\":{\"colorbar\":{\"outlinewidth\":0,\"ticks\":\"\"}}}],\"carpet\":[{\"aaxis\":{\"endlinecolor\":\"#2a3f5f\",\"gridcolor\":\"white\",\"linecolor\":\"white\",\"minorgridcolor\":\"white\",\"startlinecolor\":\"#2a3f5f\"},\"baxis\":{\"endlinecolor\":\"#2a3f5f\",\"gridcolor\":\"white\",\"linecolor\":\"white\",\"minorgridcolor\":\"white\",\"startlinecolor\":\"#2a3f5f\"},\"type\":\"carpet\"}],\"table\":[{\"cells\":{\"fill\":{\"color\":\"#EBF0F8\"},\"line\":{\"color\":\"white\"}},\"header\":{\"fill\":{\"color\":\"#C8D4E3\"},\"line\":{\"color\":\"white\"}},\"type\":\"table\"}],\"barpolar\":[{\"marker\":{\"line\":{\"color\":\"#E5ECF6\",\"width\":0.5},\"pattern\":{\"fillmode\":\"overlay\",\"size\":10,\"solidity\":0.2}},\"type\":\"barpolar\"}],\"pie\":[{\"automargin\":true,\"type\":\"pie\"}]},\"layout\":{\"autotypenumbers\":\"strict\",\"colorway\":[\"#636efa\",\"#EF553B\",\"#00cc96\",\"#ab63fa\",\"#FFA15A\",\"#19d3f3\",\"#FF6692\",\"#B6E880\",\"#FF97FF\",\"#FECB52\"],\"font\":{\"color\":\"#2a3f5f\"},\"hovermode\":\"closest\",\"hoverlabel\":{\"align\":\"left\"},\"paper_bgcolor\":\"white\",\"plot_bgcolor\":\"#E5ECF6\",\"polar\":{\"bgcolor\":\"#E5ECF6\",\"angularaxis\":{\"gridcolor\":\"white\",\"linecolor\":\"white\",\"ticks\":\"\"},\"radialaxis\":{\"gridcolor\":\"white\",\"linecolor\":\"white\",\"ticks\":\"\"}},\"ternary\":{\"bgcolor\":\"#E5ECF6\",\"aaxis\":{\"gridcolor\":\"white\",\"linecolor\":\"white\",\"ticks\":\"\"},\"baxis\":{\"gridcolor\":\"white\",\"linecolor\":\"white\",\"ticks\":\"\"},\"caxis\":{\"gridcolor\":\"white\",\"linecolor\":\"white\",\"ticks\":\"\"}},\"coloraxis\":{\"colorbar\":{\"outlinewidth\":0,\"ticks\":\"\"}},\"colorscale\":{\"sequential\":[[0.0,\"#0d0887\"],[0.1111111111111111,\"#46039f\"],[0.2222222222222222,\"#7201a8\"],[0.3333333333333333,\"#9c179e\"],[0.4444444444444444,\"#bd3786\"],[0.5555555555555556,\"#d8576b\"],[0.6666666666666666,\"#ed7953\"],[0.7777777777777778,\"#fb9f3a\"],[0.8888888888888888,\"#fdca26\"],[1.0,\"#f0f921\"]],\"sequentialminus\":[[0.0,\"#0d0887\"],[0.1111111111111111,\"#46039f\"],[0.2222222222222222,\"#7201a8\"],[0.3333333333333333,\"#9c179e\"],[0.4444444444444444,\"#bd3786\"],[0.5555555555555556,\"#d8576b\"],[0.6666666666666666,\"#ed7953\"],[0.7777777777777778,\"#fb9f3a\"],[0.8888888888888888,\"#fdca26\"],[1.0,\"#f0f921\"]],\"diverging\":[[0,\"#8e0152\"],[0.1,\"#c51b7d\"],[0.2,\"#de77ae\"],[0.3,\"#f1b6da\"],[0.4,\"#fde0ef\"],[0.5,\"#f7f7f7\"],[0.6,\"#e6f5d0\"],[0.7,\"#b8e186\"],[0.8,\"#7fbc41\"],[0.9,\"#4d9221\"],[1,\"#276419\"]]},\"xaxis\":{\"gridcolor\":\"white\",\"linecolor\":\"white\",\"ticks\":\"\",\"title\":{\"standoff\":15},\"zerolinecolor\":\"white\",\"automargin\":true,\"zerolinewidth\":2},\"yaxis\":{\"gridcolor\":\"white\",\"linecolor\":\"white\",\"ticks\":\"\",\"title\":{\"standoff\":15},\"zerolinecolor\":\"white\",\"automargin\":true,\"zerolinewidth\":2},\"scene\":{\"xaxis\":{\"backgroundcolor\":\"#E5ECF6\",\"gridcolor\":\"white\",\"linecolor\":\"white\",\"showbackground\":true,\"ticks\":\"\",\"zerolinecolor\":\"white\",\"gridwidth\":2},\"yaxis\":{\"backgroundcolor\":\"#E5ECF6\",\"gridcolor\":\"white\",\"linecolor\":\"white\",\"showbackground\":true,\"ticks\":\"\",\"zerolinecolor\":\"white\",\"gridwidth\":2},\"zaxis\":{\"backgroundcolor\":\"#E5ECF6\",\"gridcolor\":\"white\",\"linecolor\":\"white\",\"showbackground\":true,\"ticks\":\"\",\"zerolinecolor\":\"white\",\"gridwidth\":2}},\"shapedefaults\":{\"line\":{\"color\":\"#2a3f5f\"}},\"annotationdefaults\":{\"arrowcolor\":\"#2a3f5f\",\"arrowhead\":0,\"arrowwidth\":1},\"geo\":{\"bgcolor\":\"white\",\"landcolor\":\"#E5ECF6\",\"subunitcolor\":\"white\",\"showland\":true,\"showlakes\":true,\"lakecolor\":\"white\"},\"title\":{\"x\":0.05},\"mapbox\":{\"style\":\"light\"}}},\"title\":{\"text\":\"Distribution of Mean Heights\"},\"xaxis\":{\"title\":{\"text\":\"Mean Height (cm)\"},\"range\":[50,290]},\"yaxis\":{\"title\":{\"text\":\"Frequency\"}}},                        {\"responsive\": true}                    ).then(function(){\n",
       "                            \n",
       "var gd = document.getElementById('791ff01b-a389-4734-83d1-f6a52c4547d4');\n",
       "var x = new MutationObserver(function (mutations, observer) {{\n",
       "        var display = window.getComputedStyle(gd).display;\n",
       "        if (!display || display === 'none') {{\n",
       "            console.log([gd, 'removed!']);\n",
       "            Plotly.purge(gd);\n",
       "            observer.disconnect();\n",
       "        }}\n",
       "}});\n",
       "\n",
       "// Listen for the removal of the full notebook cells\n",
       "var notebookContainer = gd.closest('#notebook-container');\n",
       "if (notebookContainer) {{\n",
       "    x.observe(notebookContainer, {childList: true});\n",
       "}}\n",
       "\n",
       "// Listen for the clearing of the current output cell\n",
       "var outputEl = gd.closest('.output');\n",
       "if (outputEl) {{\n",
       "    x.observe(outputEl, {childList: true});\n",
       "}}\n",
       "\n",
       "                        })                };                });            </script>        </div>"
      ]
     },
     "metadata": {},
     "output_type": "display_data"
    }
   ],
   "source": [
    "# Build a distribution histogram of the 'mean' column\n",
    "fig = go.Figure()\n",
    "\n",
    "fig.add_trace(go.Histogram(x=df_summary_stats['mean'], nbinsx=20, marker_color='green', opacity=0.6,\n",
    "                           marker_line_color='black', marker_line_width=1))\n",
    "\n",
    "fig.update_layout(title_text='Distribution of Mean Heights',\n",
    "                  xaxis_title='Mean Height (cm)',\n",
    "                  yaxis_title='Frequency')\n",
    "\n",
    "# Set the minimum and maximum limits for the x-axis\n",
    "fig.update_xaxes(range=[mean_height - 3*std_dev, mean_height + 3*std_dev])\n",
    "\n",
    "fig.show()"
   ]
  },
  {
   "cell_type": "code",
   "execution_count": null,
   "metadata": {},
   "outputs": [],
   "source": []
  },
  {
   "cell_type": "code",
   "execution_count": null,
   "metadata": {},
   "outputs": [],
   "source": []
  },
  {
   "cell_type": "code",
   "execution_count": null,
   "metadata": {},
   "outputs": [],
   "source": []
  }
 ],
 "metadata": {
  "kernelspec": {
   "display_name": "Python 3 (ipykernel)",
   "language": "python",
   "name": "python3"
  },
  "language_info": {
   "codemirror_mode": {
    "name": "ipython",
    "version": 3
   },
   "file_extension": ".py",
   "mimetype": "text/x-python",
   "name": "python",
   "nbconvert_exporter": "python",
   "pygments_lexer": "ipython3",
   "version": "3.11.4"
  }
 },
 "nbformat": 4,
 "nbformat_minor": 4
}
